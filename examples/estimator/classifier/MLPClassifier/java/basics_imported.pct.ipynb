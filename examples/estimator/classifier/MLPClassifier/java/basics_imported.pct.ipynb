{
 "cells": [
  {
   "cell_type": "markdown",
   "metadata": {},
   "source": [
    "# sklearn-porter\n",
    "\n",
    "Repository: [https://github.com/nok/sklearn-porter](https://github.com/nok/sklearn-porter)\n",
    "\n",
    "## MLPClassifier\n",
    "\n",
    "Documentation: [sklearn.neural_network.MLPClassifier](http://scikit-learn.org/stable/modules/generated/sklearn.neural_network.MLPClassifier.html)"
   ]
  },
  {
   "cell_type": "code",
   "execution_count": 1,
   "metadata": {},
   "outputs": [],
   "source": [
    "import sys\n",
    "sys.path.append('../../../../..')"
   ]
  },
  {
   "cell_type": "markdown",
   "metadata": {},
   "source": [
    "### Load data"
   ]
  },
  {
   "cell_type": "code",
   "execution_count": 2,
   "metadata": {},
   "outputs": [
    {
     "name": "stdout",
     "output_type": "stream",
     "text": [
      "((90, 4), (90,))\n",
      "((60, 4), (60,))\n"
     ]
    }
   ],
   "source": [
    "from sklearn.datasets import load_iris\n",
    "from sklearn.model_selection import train_test_split\n",
    "from sklearn.utils import shuffle\n",
    "\n",
    "iris_data = load_iris()\n",
    "X = iris_data.data\n",
    "y = iris_data.target\n",
    "\n",
    "X = shuffle(X, random_state=0)\n",
    "y = shuffle(y, random_state=0)\n",
    "\n",
    "X_train, X_test, y_train, y_test = train_test_split(\n",
    "    X, y, test_size=0.4, random_state=5)\n",
    "\n",
    "print(X_train.shape, y_train.shape)\n",
    "print(X_test.shape, y_test.shape)"
   ]
  },
  {
   "cell_type": "markdown",
   "metadata": {},
   "source": [
    "### Train classifier"
   ]
  },
  {
   "cell_type": "code",
   "execution_count": 3,
   "metadata": {},
   "outputs": [
    {
     "data": {
      "text/plain": [
       "MLPClassifier(activation='relu', alpha=0.0001, batch_size='auto', beta_1=0.9,\n",
       "       beta_2=0.999, early_stopping=False, epsilon=1e-08,\n",
       "       hidden_layer_sizes=50, learning_rate='constant',\n",
       "       learning_rate_init=0.1, max_iter=500, momentum=0.9,\n",
       "       n_iter_no_change=10, nesterovs_momentum=True, power_t=0.5,\n",
       "       random_state=1, shuffle=True, solver='sgd', tol=0.0001,\n",
       "       validation_fraction=0.1, verbose=False, warm_start=False)"
      ]
     },
     "execution_count": 3,
     "metadata": {},
     "output_type": "execute_result"
    }
   ],
   "source": [
    "from sklearn.neural_network import MLPClassifier\n",
    "\n",
    "clf = MLPClassifier(activation='relu', hidden_layer_sizes=50,\n",
    "                    max_iter=500, alpha=1e-4, solver='sgd',\n",
    "                    tol=1e-4, random_state=1, learning_rate_init=.1)\n",
    "clf.fit(X_train, y_train)"
   ]
  },
  {
   "cell_type": "markdown",
   "metadata": {},
   "source": [
    "### Transpile classifier"
   ]
  },
  {
   "cell_type": "code",
   "execution_count": 4,
   "metadata": {},
   "outputs": [
    {
     "name": "stdout",
     "output_type": "stream",
     "text": [
      "import java.io.File;\n",
      "import java.io.FileNotFoundException;\n",
      "import java.util.*;\n",
      "import com.google.gson.Gson;\n",
      "\n",
      "\n",
      "class MLPClassifier {\n",
      "\n",
      "    private enum Activation { IDENTITY, LOGISTIC, RELU, TANH, SOFTMAX }\n",
      "\n",
      "    private class Classifier {\n",
      "        private String hidden_activation;\n",
      "        private Activation hidden;\n",
      "        private String output_activation;\n",
      "        private Activation output;\n",
      "        private double[][] network;\n",
      "        private double[][][] weights;\n",
      "        private double[][] bias;\n",
      "        private int[] layers;\n",
      "    }\n",
      "\n",
      "    private Classifier clf;\n",
      "\n",
      "    public MLPClassifier(String file) throws FileNotFoundException {\n",
      "        String jsonStr = new Scanner(new File(file)).useDelimiter(\"\\\\Z\").next();\n",
      "        this.clf = new Gson().fromJson(jsonStr, Classifier.class);\n",
      "        this.clf.network = new double[this.clf.layers.length + 1][];\n",
      "        for (int i = 0, l = this.clf.layers.length; i < l; i++) {\n",
      "            this.clf.network[i + 1] = new double[this.clf.layers[i]];\n",
      "        }\n",
      "        this.clf.hidden = Activation.valueOf(this.clf.hidden_activation.toUpperCase());\n",
      "        this.clf.output = Activation.valueOf(this.clf.output_activation.toUpperCase());\n",
      "    }\n",
      "\n",
      "    private double[] compute(Activation activation, double[] v) {\n",
      "        switch (activation) {\n",
      "            case LOGISTIC:\n",
      "                for (int i = 0, l = v.length; i < l; i++) {\n",
      "                    v[i] = 1. / (1. + Math.exp(-v[i]));\n",
      "                }\n",
      "                break;\n",
      "            case RELU:\n",
      "                for (int i = 0, l = v.length; i < l; i++) {\n",
      "                    v[i] = Math.max(0, v[i]);\n",
      "                }\n",
      "                break;\n",
      "            case TANH:\n",
      "                for (int i = 0, l = v.length; i < l; i++) {\n",
      "                    v[i] = Math.tanh(v[i]);\n",
      "                }\n",
      "                break;\n",
      "            case SOFTMAX:\n",
      "                double max = Double.NEGATIVE_INFINITY;\n",
      "                for (double x : v) {\n",
      "                    if (x > max) {\n",
      "                        max = x;\n",
      "                    }\n",
      "                }\n",
      "                for (int i = 0, l = v.length; i < l; i++) {\n",
      "                    v[i] = Math.exp(v[i] - max);\n",
      "                }\n",
      "                double sum = 0.;\n",
      "                for (double x : v) {\n",
      "                    sum += x;\n",
      "                }\n",
      "                for (int i = 0, l = v.length; i < l; i++) {\n",
      "                    v[i] /= sum;\n",
      "                }\n",
      "                break;\n",
      "        }\n",
      "        return v;\n",
      "    }\n",
      "\n",
      "    public int predict(double[] neurons) {\n",
      "        this.clf.network[0] = neurons;\n",
      "\n",
      "        for (int i = 0; i < this.clf.network.length - 1; i++) {\n",
      "            for (int j = 0; j < this.clf.network[i + 1].length; j++) {\n",
      "                for (int l = 0; l < this.clf.network[i].length; l++) {\n",
      "                    this.clf.network[i + 1][j] += this.clf.network[i][l] * this.clf.weights[i][l][j];\n",
      "                }\n",
      "                this.clf.network[i + 1][j] += this.clf.bias[i][j];\n",
      "            }\n",
      "            if ((i + 1) < (this.clf.network.length - 1)) {\n",
      "                this.clf.network[i + 1] = this.compute(this.clf.hidden, this.clf.network[i + 1]);\n",
      "            }\n",
      "        }\n",
      "        this.clf.network[this.clf.network.length - 1] = this.compute(this.clf.output, this.clf.network[this.clf.network.length - 1]);\n",
      "\n",
      "        if (this.clf.network[this.clf.network.length - 1].length == 1) {\n",
      "            if (this.clf.network[this.clf.network.length - 1][0] > .5) {\n",
      "                return 1;\n",
      "            }\n",
      "            return 0;\n",
      "        } else {\n",
      "            int classIdx = 0;\n",
      "            for (int i = 0; i < this.clf.network[this.clf.network.length - 1].length; i++) {\n",
      "                classIdx = this.clf.network[this.clf.network.length - 1][i] > this.clf.network[this.clf.network.length - 1][classIdx] ? i : classIdx;\n",
      "            }\n",
      "            return classIdx;\n",
      "        }\n",
      "    }\n",
      "\n",
      "    public static void main(String[] args) throws FileNotFoundException {\n",
      "        if (args.length > 0 && args[0].endsWith(\".json\")) {\n",
      "\n",
      "            // Features:\n",
      "            double[] features = new double[args.length-1];\n",
      "            for (int i = 1, l = args.length; i < l; i++) {\n",
      "                features[i - 1] = Double.parseDouble(args[i]);\n",
      "            }\n",
      "\n",
      "            // Parameters:\n",
      "            String modelData = args[0];\n",
      "\n",
      "            // Estimators:\n",
      "            MLPClassifier clf = new MLPClassifier(modelData);\n",
      "\n",
      "            // Prediction:\n",
      "            int prediction = clf.predict(features);\n",
      "            System.out.println(prediction);\n",
      "\n",
      "        }\n",
      "    }\n",
      "}\n"
     ]
    }
   ],
   "source": [
    "from sklearn_porter import Porter\n",
    "\n",
    "porter = Porter(clf, language='java')\n",
    "output = porter.export(export_data=True)\n",
    "\n",
    "print(output)"
   ]
  },
  {
   "cell_type": "markdown",
   "metadata": {},
   "source": [
    "### Run classification in Java"
   ]
  },
  {
   "cell_type": "code",
   "execution_count": 5,
   "metadata": {},
   "outputs": [],
   "source": [
    "# Save classifier:\n",
    "# with open('MLPClassifier.java', 'w') as f:\n",
    "#     f.write(output)\n",
    "\n",
    "# Check model data:\n",
    "# $ cat data.json\n",
    "\n",
    "# Download dependencies:\n",
    "# $ wget -O gson.jar http://central.maven.org/maven2/com/google/code/gson/gson/2.8.5/gson-2.8.5.jar\n",
    "\n",
    "# Compile model:\n",
    "# $ javac -cp .:gson.jar MLPClassifier.java\n",
    "\n",
    "# Run classification:\n",
    "# $ java -cp .:gson.jar MLPClassifier data.json 1 2 3 4"
   ]
  }
 ],
 "metadata": {
  "jupytext": {
   "main_language": "python",
   "text_representation": {
    "extension": ".py",
    "format_name": "percent"
   }
  },
  "language_info": {
   "codemirror_mode": {
    "name": "ipython",
    "version": 2
   },
   "file_extension": ".py",
   "mimetype": "text/x-python",
   "name": "python",
   "nbconvert_exporter": "python",
   "pygments_lexer": "ipython2",
   "version": "2.7.15"
  }
 },
 "nbformat": 4,
 "nbformat_minor": 2
}
