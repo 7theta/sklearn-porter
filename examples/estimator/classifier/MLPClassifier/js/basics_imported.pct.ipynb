{
 "cells": [
  {
   "cell_type": "markdown",
   "metadata": {},
   "source": [
    "# sklearn-porter\n",
    "\n",
    "Repository: [https://github.com/nok/sklearn-porter](https://github.com/nok/sklearn-porter)\n",
    "\n",
    "## MLPClassifier\n",
    "\n",
    "Documentation: [sklearn.neural_network.MLPClassifier](http://scikit-learn.org/stable/modules/generated/sklearn.neural_network.MLPClassifier.html)"
   ]
  },
  {
   "cell_type": "code",
   "execution_count": 1,
   "metadata": {},
   "outputs": [],
   "source": [
    "import sys\n",
    "sys.path.append('../../../../..')"
   ]
  },
  {
   "cell_type": "markdown",
   "metadata": {},
   "source": [
    "### Load data"
   ]
  },
  {
   "cell_type": "code",
   "execution_count": 2,
   "metadata": {},
   "outputs": [
    {
     "name": "stdout",
     "output_type": "stream",
     "text": [
      "((90, 4), (90,))\n",
      "((60, 4), (60,))\n"
     ]
    }
   ],
   "source": [
    "from sklearn.datasets import load_iris\n",
    "from sklearn.model_selection import train_test_split\n",
    "from sklearn.utils import shuffle\n",
    "\n",
    "iris_data = load_iris()\n",
    "X = iris_data.data\n",
    "y = iris_data.target\n",
    "\n",
    "X = shuffle(X, random_state=0)\n",
    "y = shuffle(y, random_state=0)\n",
    "\n",
    "X_train, X_test, y_train, y_test = train_test_split(\n",
    "    X, y, test_size=0.4, random_state=5)\n",
    "\n",
    "print(X_train.shape, y_train.shape)\n",
    "print(X_test.shape, y_test.shape)"
   ]
  },
  {
   "cell_type": "markdown",
   "metadata": {},
   "source": [
    "### Train classifier"
   ]
  },
  {
   "cell_type": "code",
   "execution_count": 3,
   "metadata": {},
   "outputs": [
    {
     "data": {
      "text/plain": [
       "MLPClassifier(activation='relu', alpha=0.0001, batch_size='auto', beta_1=0.9,\n",
       "       beta_2=0.999, early_stopping=False, epsilon=1e-08,\n",
       "       hidden_layer_sizes=50, learning_rate='constant',\n",
       "       learning_rate_init=0.1, max_iter=500, momentum=0.9,\n",
       "       n_iter_no_change=10, nesterovs_momentum=True, power_t=0.5,\n",
       "       random_state=1, shuffle=True, solver='sgd', tol=0.0001,\n",
       "       validation_fraction=0.1, verbose=False, warm_start=False)"
      ]
     },
     "execution_count": 3,
     "metadata": {},
     "output_type": "execute_result"
    }
   ],
   "source": [
    "from sklearn.neural_network import MLPClassifier\n",
    "\n",
    "clf = MLPClassifier(activation='relu', hidden_layer_sizes=50,\n",
    "                    max_iter=500, alpha=1e-4, solver='sgd',\n",
    "                    tol=1e-4, random_state=1, learning_rate_init=.1)\n",
    "clf.fit(X_train, y_train)"
   ]
  },
  {
   "cell_type": "markdown",
   "metadata": {},
   "source": [
    "### Transpile classifier"
   ]
  },
  {
   "cell_type": "code",
   "execution_count": 4,
   "metadata": {},
   "outputs": [
    {
     "name": "stdout",
     "output_type": "stream",
     "text": [
      "if (typeof XMLHttpRequest === 'undefined') {\n",
      "    var XMLHttpRequest = require(\"xmlhttprequest\").XMLHttpRequest;\n",
      "}\n",
      "\n",
      "var MLPClassifier = function(jsonFile) {\n",
      "    this.mdl = undefined;\n",
      "\n",
      "    var promise = new Promise(function(resolve, reject) {\n",
      "        var httpRequest = new XMLHttpRequest();\n",
      "        httpRequest.onreadystatechange = function() {\n",
      "            if (httpRequest.readyState === 4) {\n",
      "                if (httpRequest.status === 200) {\n",
      "                    resolve(JSON.parse(httpRequest.responseText));\n",
      "                } else {\n",
      "                    reject(new Error(httpRequest.status + ': ' + httpRequest.statusText));\n",
      "                }\n",
      "            }\n",
      "        };\n",
      "        httpRequest.open('GET', jsonFile, true);\n",
      "        httpRequest.send();\n",
      "    });\n",
      "\n",
      "    // Return max index:\n",
      "    var maxi = function(nums) {\n",
      "        var index = 0;\n",
      "        for (var i=0, l=nums.length; i < l; i++) {\n",
      "            index = nums[i] > nums[index] ? i : index;\n",
      "        }\n",
      "        return index;\n",
      "    };\n",
      "\n",
      "    // Compute the activation function:\n",
      "    var compute = function(activation, v) {\n",
      "        switch (activation) {\n",
      "            case 'LOGISTIC':\n",
      "                for (var i = 0, l = v.length; i < l; i++) {\n",
      "                    v[i] = 1. / (1. + Math.exp(-v[i]));\n",
      "                }\n",
      "                break;\n",
      "            case 'RELU':\n",
      "                for (var i = 0, l = v.length; i < l; i++) {\n",
      "                    v[i] = Math.max(0, v[i]);\n",
      "                }\n",
      "                break;\n",
      "            case 'TANH':\n",
      "                for (var i = 0, l = v.length; i < l; i++) {\n",
      "                    v[i] = Math.tanh(v[i]);\n",
      "                }\n",
      "                break;\n",
      "            case 'SOFTMAX':\n",
      "                var max = Number.NEGATIVE_INFINITY;\n",
      "                for (var i = 0, l = v.length; i < l; i++) {\n",
      "                    if (v[i] > max) {\n",
      "                        max = v[i];\n",
      "                    }\n",
      "                }\n",
      "                for (var i = 0, l = v.length; i < l; i++) {\n",
      "                    v[i] = Math.exp(v[i] - max);\n",
      "                }\n",
      "                var sum = 0.0;\n",
      "                for (var i = 0, l = v.length; i < l; i++) {\n",
      "                    sum += v[i];\n",
      "                }\n",
      "                for (var i = 0, l = v.length; i < l; i++) {\n",
      "                    v[i] /= sum;\n",
      "                }\n",
      "                break;\n",
      "        }\n",
      "        return v;\n",
      "    };\n",
      "\n",
      "    this.predict = function(neurons) {\n",
      "        return new Promise(function(resolve, reject) {\n",
      "            promise.then(function(mdl) {\n",
      "\n",
      "                // Initialization:\n",
      "                if (typeof this.mdl === 'undefined') {\n",
      "                    mdl.hidden_activation = mdl.hidden_activation.toUpperCase();\n",
      "                    mdl.output_activation = mdl.output_activation.toUpperCase();\n",
      "                    mdl.network = new Array(mdl.layers.length + 1);\n",
      "                    for (var i = 0, l = mdl.layers.length; i < l; i++) {\n",
      "                        mdl.network[i + 1] = new Array(mdl.layers[i]).fill(0.);\n",
      "                    }\n",
      "                    this.mdl = mdl;\n",
      "                }\n",
      "\n",
      "                // Feed forward:\n",
      "                this.mdl.network[0] = neurons;\n",
      "                for (var i = 0; i < this.mdl.network.length - 1; i++) {\n",
      "                    for (var j = 0; j < this.mdl.network[i + 1].length; j++) {\n",
      "                        for (var l = 0; l < this.mdl.network[i].length; l++) {\n",
      "                            this.mdl.network[i + 1][j] += this.mdl.network[i][l] * this.mdl.weights[i][l][j];\n",
      "                        }\n",
      "                        this.mdl.network[i + 1][j] += this.mdl.bias[i][j];\n",
      "                    }\n",
      "                    if ((i + 1) < (this.mdl.network.length - 1)) {\n",
      "                        this.mdl.network[i + 1] = compute(this.mdl.hidden_activation, this.mdl.network[i + 1]);\n",
      "                    }\n",
      "                }\n",
      "                this.mdl.network[this.mdl.network.length - 1] = compute(this.mdl.output_activation, this.mdl.network[this.mdl.network.length - 1]);\n",
      "\n",
      "                // Return result:\n",
      "                if (this.mdl.network[this.mdl.network.length - 1].length == 1) {\n",
      "                    if (this.mdl.network[this.mdl.network.length - 1][0] > .5) {\n",
      "                        resolve(1);\n",
      "                    }\n",
      "                    resolve(0);\n",
      "                } else {\n",
      "                    resolve(maxi(this.mdl.network[this.mdl.network.length - 1]));\n",
      "                }\n",
      "            }, function(error) {\n",
      "                reject(error);\n",
      "            });\n",
      "        });\n",
      "    };\n",
      "};\n",
      "\n",
      "if (typeof process !== 'undefined' && typeof process.argv !== 'undefined') {\n",
      "    if (process.argv[2].trim().endsWith('.json')) {\n",
      "\n",
      "        // Features:\n",
      "        var features = process.argv.slice(3);\n",
      "\n",
      "        // Parameters:\n",
      "        var json = process.argv[2];\n",
      "\n",
      "        // Estimator:\n",
      "        var clf = new MLPClassifier(json);\n",
      "\n",
      "        // Prediction:\n",
      "        clf.predict(features).then(function(prediction) {\n",
      "            console.log(prediction);\n",
      "        }, function(error) {\n",
      "            console.log(error);\n",
      "        });\n",
      "\n",
      "    }\n",
      "}\n"
     ]
    }
   ],
   "source": [
    "from sklearn_porter import Porter\n",
    "\n",
    "porter = Porter(clf, language='js')\n",
    "output = porter.export(export_data=True)\n",
    "\n",
    "print(output)"
   ]
  },
  {
   "cell_type": "markdown",
   "metadata": {},
   "source": [
    "### Run classification in JavaScript"
   ]
  },
  {
   "cell_type": "code",
   "execution_count": 5,
   "metadata": {},
   "outputs": [],
   "source": [
    "# Save classifier:\n",
    "# with open('MLPClassifier.js', 'w') as f:\n",
    "#     f.write(output)\n",
    "\n",
    "# Check model data:\n",
    "# $ cat data.json\n",
    "\n",
    "# Run classification:\n",
    "# if hash node 2/dev/null; then\n",
    "#     python -m SimpleHTTPServer 8877 & serve_pid=$!\n",
    "#     node MLPClassifier.js http://127.0.0.1:8877/data.json 1 2 3 4\n",
    "#     kill $serve_pid\n",
    "# fi"
   ]
  }
 ],
 "metadata": {
  "jupytext": {
   "main_language": "python",
   "text_representation": {
    "extension": ".py",
    "format_name": "percent"
   }
  },
  "language_info": {
   "codemirror_mode": {
    "name": "ipython",
    "version": 2
   },
   "file_extension": ".py",
   "mimetype": "text/x-python",
   "name": "python",
   "nbconvert_exporter": "python",
   "pygments_lexer": "ipython2",
   "version": "2.7.15"
  }
 },
 "nbformat": 4,
 "nbformat_minor": 2
}
