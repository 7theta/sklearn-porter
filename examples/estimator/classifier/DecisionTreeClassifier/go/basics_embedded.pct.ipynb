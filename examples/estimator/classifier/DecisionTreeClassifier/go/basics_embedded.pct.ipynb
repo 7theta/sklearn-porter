{
 "cells": [
  {
   "cell_type": "markdown",
   "metadata": {},
   "source": [
    "# sklearn-porter\n",
    "\n",
    "Repository: [https://github.com/nok/sklearn-porter](https://github.com/nok/sklearn-porter)\n",
    "\n",
    "## DecisionTreeClassifier\n",
    "\n",
    "Documentation: [sklearn.tree.DecisionTreeClassifier](http://scikit-learn.org/stable/modules/generated/sklearn.tree.DecisionTreeClassifier.html)"
   ]
  },
  {
   "cell_type": "code",
   "execution_count": 1,
   "metadata": {},
   "outputs": [],
   "source": [
    "import sys\n",
    "sys.path.append('../../../../..')"
   ]
  },
  {
   "cell_type": "markdown",
   "metadata": {},
   "source": [
    "### Load data"
   ]
  },
  {
   "cell_type": "code",
   "execution_count": 2,
   "metadata": {},
   "outputs": [
    {
     "name": "stdout",
     "output_type": "stream",
     "text": [
      "((150, 4), (150,))\n"
     ]
    }
   ],
   "source": [
    "from sklearn.datasets import load_iris\n",
    "\n",
    "iris_data = load_iris()\n",
    "\n",
    "X = iris_data.data\n",
    "y = iris_data.target\n",
    "\n",
    "print(X.shape, y.shape)"
   ]
  },
  {
   "cell_type": "markdown",
   "metadata": {},
   "source": [
    "### Train classifier"
   ]
  },
  {
   "cell_type": "code",
   "execution_count": 3,
   "metadata": {},
   "outputs": [
    {
     "data": {
      "text/plain": [
       "DecisionTreeClassifier(class_weight=None, criterion='gini', max_depth=None,\n",
       "            max_features=None, max_leaf_nodes=None,\n",
       "            min_impurity_decrease=0.0, min_impurity_split=None,\n",
       "            min_samples_leaf=1, min_samples_split=2,\n",
       "            min_weight_fraction_leaf=0.0, presort=False, random_state=None,\n",
       "            splitter='best')"
      ]
     },
     "execution_count": 3,
     "metadata": {},
     "output_type": "execute_result"
    }
   ],
   "source": [
    "from sklearn.tree import tree\n",
    "\n",
    "clf = tree.DecisionTreeClassifier()\n",
    "clf.fit(X, y)"
   ]
  },
  {
   "cell_type": "markdown",
   "metadata": {},
   "source": [
    "### Transpile classifier"
   ]
  },
  {
   "cell_type": "code",
   "execution_count": 4,
   "metadata": {},
   "outputs": [
    {
     "name": "stdout",
     "output_type": "stream",
     "text": [
      "package main\n",
      "\n",
      "import (\n",
      "\t\"os\"\n",
      "\t\"fmt\"\n",
      "\t\"strconv\"\n",
      ")\n",
      "\n",
      "func predict(features []float64) int {\n",
      "\tvar classes [3]float64\n",
      "\t\t\n",
      "\tif features[2] <= 2.449999988079071 {\n",
      "\t\tclasses[0] = 50\n",
      "\t\tclasses[1] = 0\n",
      "\t\tclasses[2] = 0\n",
      "\t} else {\n",
      "\t\tif features[3] <= 1.75 {\n",
      "\t\t\tif features[2] <= 4.950000047683716 {\n",
      "\t\t\t\tif features[3] <= 1.6500000357627869 {\n",
      "\t\t\t\t\tclasses[0] = 0\n",
      "\t\t\t\t\tclasses[1] = 47\n",
      "\t\t\t\t\tclasses[2] = 0\n",
      "\t\t\t\t} else {\n",
      "\t\t\t\t\tclasses[0] = 0\n",
      "\t\t\t\t\tclasses[1] = 0\n",
      "\t\t\t\t\tclasses[2] = 1\n",
      "\t\t\t\t}\n",
      "\t\t\t} else {\n",
      "\t\t\t\tif features[3] <= 1.550000011920929 {\n",
      "\t\t\t\t\tclasses[0] = 0\n",
      "\t\t\t\t\tclasses[1] = 0\n",
      "\t\t\t\t\tclasses[2] = 3\n",
      "\t\t\t\t} else {\n",
      "\t\t\t\t\tif features[2] <= 5.450000047683716 {\n",
      "\t\t\t\t\t\tclasses[0] = 0\n",
      "\t\t\t\t\t\tclasses[1] = 2\n",
      "\t\t\t\t\t\tclasses[2] = 0\n",
      "\t\t\t\t\t} else {\n",
      "\t\t\t\t\t\tclasses[0] = 0\n",
      "\t\t\t\t\t\tclasses[1] = 0\n",
      "\t\t\t\t\t\tclasses[2] = 1\n",
      "\t\t\t\t\t}\n",
      "\t\t\t\t}\n",
      "\t\t\t}\n",
      "\t\t} else {\n",
      "\t\t\tif features[2] <= 4.8500001430511475 {\n",
      "\t\t\t\tif features[1] <= 3.100000023841858 {\n",
      "\t\t\t\t\tclasses[0] = 0\n",
      "\t\t\t\t\tclasses[1] = 0\n",
      "\t\t\t\t\tclasses[2] = 2\n",
      "\t\t\t\t} else {\n",
      "\t\t\t\t\tclasses[0] = 0\n",
      "\t\t\t\t\tclasses[1] = 1\n",
      "\t\t\t\t\tclasses[2] = 0\n",
      "\t\t\t\t}\n",
      "\t\t\t} else {\n",
      "\t\t\t\tclasses[0] = 0\n",
      "\t\t\t\tclasses[1] = 0\n",
      "\t\t\t\tclasses[2] = 43\n",
      "\t\t\t}\n",
      "\t\t}\n",
      "\t}\n",
      "\n",
      "    var index int = 0\n",
      "\tfor i := 0; i < len(classes); i++ {\n",
      "\t    if classes[i] > classes[index] {\n",
      "\t        index = i\n",
      "\t    }\n",
      "\t}\n",
      "\treturn index\n",
      "}\n",
      "\n",
      "func main() {\n",
      "\n",
      "\t// Features:\n",
      "\tvar features []float64\n",
      "\tfor _, arg := range os.Args[1:] {\n",
      "\t\tif n, err := strconv.ParseFloat(arg, 64); err == nil {\n",
      "\t\t\tfeatures = append(features, n)\n",
      "\t\t}\n",
      "\t}\n",
      "\n",
      "\t// Prediction:\n",
      "\tvar estimation = predict(features)\n",
      "\tfmt.Printf(\"%d\\n\", estimation)\n",
      "\n",
      "}\n"
     ]
    }
   ],
   "source": [
    "from sklearn_porter import Porter\n",
    "\n",
    "porter = Porter(clf, language='go')\n",
    "output = porter.export(embed_data=True)\n",
    "\n",
    "print(output)"
   ]
  }
 ],
 "metadata": {
  "jupytext": {
   "main_language": "python",
   "text_representation": {
    "extension": ".py",
    "format_name": "percent"
   }
  },
  "language_info": {
   "codemirror_mode": {
    "name": "ipython",
    "version": 2
   },
   "file_extension": ".py",
   "mimetype": "text/x-python",
   "name": "python",
   "nbconvert_exporter": "python",
   "pygments_lexer": "ipython2",
   "version": "2.7.15"
  }
 },
 "nbformat": 4,
 "nbformat_minor": 2
}
