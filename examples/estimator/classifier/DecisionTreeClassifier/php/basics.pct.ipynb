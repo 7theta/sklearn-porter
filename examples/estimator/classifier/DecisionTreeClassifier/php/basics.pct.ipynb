{
 "cells": [
  {
   "cell_type": "markdown",
   "metadata": {},
   "source": [
    "# sklearn-porter\n",
    "\n",
    "Repository: [https://github.com/nok/sklearn-porter](https://github.com/nok/sklearn-porter)\n",
    "\n",
    "## DecisionTreeClassifier\n",
    "\n",
    "Documentation: [sklearn.tree.DecisionTreeClassifier](http://scikit-learn.org/stable/modules/generated/sklearn.tree.DecisionTreeClassifier.html)"
   ]
  },
  {
   "cell_type": "code",
   "execution_count": 1,
   "metadata": {},
   "outputs": [],
   "source": [
    "import sys\n",
    "sys.path.append('../../../../..')"
   ]
  },
  {
   "cell_type": "markdown",
   "metadata": {},
   "source": [
    "### Load data"
   ]
  },
  {
   "cell_type": "code",
   "execution_count": 2,
   "metadata": {},
   "outputs": [
    {
     "name": "stdout",
     "output_type": "stream",
     "text": [
      "((150, 4), (150,))\n"
     ]
    }
   ],
   "source": [
    "from sklearn.datasets import load_iris\n",
    "\n",
    "iris_data = load_iris()\n",
    "\n",
    "X = iris_data.data\n",
    "y = iris_data.target\n",
    "\n",
    "print(X.shape, y.shape)"
   ]
  },
  {
   "cell_type": "markdown",
   "metadata": {},
   "source": [
    "### Train classifier"
   ]
  },
  {
   "cell_type": "code",
   "execution_count": 3,
   "metadata": {},
   "outputs": [
    {
     "data": {
      "text/plain": [
       "DecisionTreeClassifier(class_weight=None, criterion='gini', max_depth=None,\n",
       "            max_features=None, max_leaf_nodes=None,\n",
       "            min_impurity_decrease=0.0, min_impurity_split=None,\n",
       "            min_samples_leaf=1, min_samples_split=2,\n",
       "            min_weight_fraction_leaf=0.0, presort=False, random_state=None,\n",
       "            splitter='best')"
      ]
     },
     "execution_count": 3,
     "metadata": {},
     "output_type": "execute_result"
    }
   ],
   "source": [
    "from sklearn.tree import tree\n",
    "\n",
    "clf = tree.DecisionTreeClassifier()\n",
    "clf.fit(X, y)"
   ]
  },
  {
   "cell_type": "markdown",
   "metadata": {},
   "source": [
    "### Transpile classifier"
   ]
  },
  {
   "cell_type": "code",
   "execution_count": 4,
   "metadata": {},
   "outputs": [
    {
     "name": "stdout",
     "output_type": "stream",
     "text": [
      "<?php\n",
      "\n",
      "class DecisionTreeClassifier {\n",
      "\n",
      "    public function __construct($lChilds, $rChilds, $thresholds, $indices, $classes) {\n",
      "        $this->lChilds = $lChilds;\n",
      "        $this->rChilds = $rChilds;\n",
      "        $this->thresholds = $thresholds;\n",
      "        $this->indices = $indices;\n",
      "        $this->classes = $classes;\n",
      "    }\n",
      "\n",
      "    private function findMax($nums) {\n",
      "        $index = 0;\n",
      "        for ($i = 0; $i < count($nums); $i++) {\n",
      "            $index = $nums[$i] > $nums[$index] ? $i : $index;\n",
      "        }\n",
      "        return $index;\n",
      "    }\n",
      "\n",
      "    public function predict($features) {\n",
      "        $node = (func_num_args() > 1) ? func_get_arg(1) : 0;\n",
      "        if ($this->thresholds[$node] != -2) {\n",
      "            if ($features[$this->indices[$node]] <= $this->thresholds[$node]) {\n",
      "                return $this->predict($features, $this->lChilds[$node]);\n",
      "            } else {\n",
      "                return $this->predict($features, $this->rChilds[$node]);\n",
      "            }\n",
      "        }\n",
      "        return $this->findMax($this->classes[$node]);\n",
      "    }\n",
      "\n",
      "}\n",
      "\n",
      "if ($argc > 1) {\n",
      "\n",
      "    // Features:\n",
      "    array_shift($argv);\n",
      "    $features = $argv;\n",
      "\n",
      "    // Parameters:\n",
      "    $lChilds = [1, -1, 3, 4, 5, -1, -1, 8, -1, 10, -1, -1, 13, 14, -1, -1, -1];\n",
      "    $rChilds = [2, -1, 12, 7, 6, -1, -1, 9, -1, 11, -1, -1, 16, 15, -1, -1, -1];\n",
      "    $thresholds = [0.800000011921, -2.0, 1.75, 4.95000004768, 1.65000003576, -2.0, -2.0, 1.55000001192, -2.0, 5.45000004768, -2.0, -2.0, 4.85000014305, 5.95000004768, -2.0, -2.0, -2.0];\n",
      "    $indices = [3, -2, 3, 2, 3, -2, -2, 3, -2, 2, -2, -2, 2, 0, -2, -2, -2];\n",
      "    $classes = [[50, 50, 50], [50, 0, 0], [0, 50, 50], [0, 49, 5], [0, 47, 1], [0, 47, 0], [0, 0, 1], [0, 2, 4], [0, 0, 3], [0, 2, 1], [0, 2, 0], [0, 0, 1], [0, 1, 45], [0, 1, 2], [0, 1, 0], [0, 0, 2], [0, 0, 43]];\n",
      "\n",
      "    // Prediction:\n",
      "    $clf = new DecisionTreeClassifier($lChilds, $rChilds, $thresholds, $indices, $classes);\n",
      "    $prediction = $clf->predict($features);\n",
      "    fwrite(STDOUT, $prediction);\n",
      "\n",
      "}\n"
     ]
    }
   ],
   "source": [
    "from sklearn_porter import Porter\n",
    "\n",
    "porter = Porter(clf, language='php')\n",
    "output = porter.export()\n",
    "\n",
    "print(output)"
   ]
  }
 ],
 "metadata": {
  "jupytext": {
   "main_language": "python",
   "text_representation": {
    "extension": ".py",
    "format_name": "percent"
   }
  },
  "language_info": {
   "codemirror_mode": {
    "name": "ipython",
    "version": 2
   },
   "file_extension": ".py",
   "mimetype": "text/x-python",
   "name": "python",
   "nbconvert_exporter": "python",
   "pygments_lexer": "ipython2",
   "version": "2.7.15"
  }
 },
 "nbformat": 4,
 "nbformat_minor": 2
}
