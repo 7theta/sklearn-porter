{
 "cells": [
  {
   "cell_type": "markdown",
   "metadata": {},
   "source": [
    "# sklearn-porter\n",
    "\n",
    "Repository: [https://github.com/nok/sklearn-porter](https://github.com/nok/sklearn-porter)\n",
    "\n",
    "## BernoulliNB\n",
    "\n",
    "Documentation: [sklearn.naive_bayes.BernoulliNB](http://scikit-learn.org/stable/modules/generated/sklearn.naive_bayes.BernoulliNB.html)"
   ]
  },
  {
   "cell_type": "code",
   "execution_count": 1,
   "metadata": {},
   "outputs": [],
   "source": [
    "import sys\n",
    "sys.path.append('../../../../..')"
   ]
  },
  {
   "cell_type": "markdown",
   "metadata": {},
   "source": [
    "### Load data"
   ]
  },
  {
   "cell_type": "code",
   "execution_count": 2,
   "metadata": {},
   "outputs": [
    {
     "name": "stdout",
     "output_type": "stream",
     "text": [
      "((150, 4), (150,))\n"
     ]
    }
   ],
   "source": [
    "from sklearn.datasets import load_iris\n",
    "\n",
    "iris_data = load_iris()\n",
    "\n",
    "X = iris_data.data\n",
    "y = iris_data.target\n",
    "\n",
    "print(X.shape, y.shape)"
   ]
  },
  {
   "cell_type": "markdown",
   "metadata": {},
   "source": [
    "### Train classifier"
   ]
  },
  {
   "cell_type": "code",
   "execution_count": 3,
   "metadata": {},
   "outputs": [
    {
     "data": {
      "text/plain": [
       "BernoulliNB(alpha=1.0, binarize=0.0, class_prior=None, fit_prior=True)"
      ]
     },
     "execution_count": 3,
     "metadata": {},
     "output_type": "execute_result"
    }
   ],
   "source": [
    "from sklearn.naive_bayes import BernoulliNB\n",
    "\n",
    "clf = BernoulliNB()\n",
    "clf.fit(X, y)"
   ]
  },
  {
   "cell_type": "markdown",
   "metadata": {},
   "source": [
    "### Transpile classifier"
   ]
  },
  {
   "cell_type": "code",
   "execution_count": 4,
   "metadata": {},
   "outputs": [
    {
     "name": "stdout",
     "output_type": "stream",
     "text": [
      "import java.io.File;\n",
      "import java.io.FileNotFoundException;\n",
      "import java.util.*;\n",
      "import com.google.gson.Gson;\n",
      "\n",
      "\n",
      "class BernoulliNB {\n",
      "\n",
      "    private class Classifier {\n",
      "        private double[] priors;\n",
      "        private double[][] negProbs;\n",
      "        private double[][] delProbs;\n",
      "    }\n",
      "\n",
      "    private Classifier clf;\n",
      "\n",
      "    public BernoulliNB(String file) throws FileNotFoundException {\n",
      "        String jsonStr = new Scanner(new File(file)).useDelimiter(\"\\\\Z\").next();\n",
      "        this.clf = new Gson().fromJson(jsonStr, Classifier.class);\n",
      "    }\n",
      "\n",
      "    public int predict(double[] features) {\n",
      "        int nClasses = this.clf.priors.length;\n",
      "        int nFeatures = this.clf.delProbs.length;\n",
      "\n",
      "        double[] jll = new double[nClasses];\n",
      "        for (int i = 0; i < nClasses; i++) {\n",
      "            double sum = 0.;\n",
      "            for (int j = 0; j < nFeatures; j++) {\n",
      "                sum += features[i] * this.clf.delProbs[j][i];\n",
      "            }\n",
      "            jll[i] = sum;\n",
      "        }\n",
      "        for (int i = 0; i < nClasses; i++) {\n",
      "            double sum = 0.;\n",
      "            for (int j = 0; j < nFeatures; j++) {\n",
      "                sum += this.clf.negProbs[i][j];\n",
      "            }\n",
      "            jll[i] += this.clf.priors[i] + sum;\n",
      "        }\n",
      "\n",
      "        int classIndex = 0;\n",
      "        for (int i = 0; i < nClasses; i++) {\n",
      "            classIndex = jll[i] > jll[classIndex] ? i : classIndex;\n",
      "        }\n",
      "        return classIndex;\n",
      "    }\n",
      "\n",
      "    public static void main(String[] args) throws FileNotFoundException {\n",
      "        if (args.length > 0 && args[0].endsWith(\".json\")) {\n",
      "\n",
      "            // Features:\n",
      "            double[] features = new double[args.length-1];\n",
      "            for (int i = 1, l = args.length; i < l; i++) {\n",
      "                features[i - 1] = Double.parseDouble(args[i]);\n",
      "            }\n",
      "\n",
      "            // Parameters:\n",
      "            String modelData = args[0];\n",
      "\n",
      "            // Estimators:\n",
      "            BernoulliNB clf = new BernoulliNB(modelData);\n",
      "\n",
      "            // Prediction:\n",
      "            int prediction = clf.predict(features);\n",
      "            System.out.println(prediction);\n",
      "\n",
      "        }\n",
      "    }\n",
      "}\n"
     ]
    }
   ],
   "source": [
    "from sklearn_porter import Porter\n",
    "\n",
    "porter = Porter(clf, language='java')\n",
    "output = porter.export(export_data=True)\n",
    "\n",
    "print(output)"
   ]
  },
  {
   "cell_type": "markdown",
   "metadata": {},
   "source": [
    "### Run classification in Java"
   ]
  },
  {
   "cell_type": "code",
   "execution_count": 5,
   "metadata": {},
   "outputs": [],
   "source": [
    "# Save classifier:\n",
    "# with open('BernoulliNB.java', 'w') as f:\n",
    "#     f.write(output)\n",
    "\n",
    "# Check model data:\n",
    "# $ cat data.json\n",
    "\n",
    "# Download dependencies:\n",
    "# $ wget -O gson.jar http://central.maven.org/maven2/com/google/code/gson/gson/2.8.5/gson-2.8.5.jar\n",
    "\n",
    "# Compile model:\n",
    "# $ javac -cp .:gson.jar BernoulliNB.java\n",
    "\n",
    "# Run classification:\n",
    "# $ java -cp .:gson.jar BernoulliNB data.json 1 2 3 4"
   ]
  }
 ],
 "metadata": {
  "jupytext": {
   "main_language": "python",
   "text_representation": {
    "extension": ".py",
    "format_name": "percent"
   }
  },
  "language_info": {
   "codemirror_mode": {
    "name": "ipython",
    "version": 2
   },
   "file_extension": ".py",
   "mimetype": "text/x-python",
   "name": "python",
   "nbconvert_exporter": "python",
   "pygments_lexer": "ipython2",
   "version": "2.7.15"
  }
 },
 "nbformat": 4,
 "nbformat_minor": 2
}
