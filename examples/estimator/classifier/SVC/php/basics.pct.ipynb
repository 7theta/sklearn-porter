{
 "cells": [
  {
   "cell_type": "markdown",
   "metadata": {},
   "source": [
    "# sklearn-porter\n",
    "\n",
    "Repository: [https://github.com/nok/sklearn-porter](https://github.com/nok/sklearn-porter)\n",
    "\n",
    "## SVC\n",
    "\n",
    "Documentation: [sklearn.svm.SVC](http://scikit-learn.org/stable/modules/generated/sklearn.svm.SVC.html)"
   ]
  },
  {
   "cell_type": "code",
   "execution_count": 1,
   "metadata": {},
   "outputs": [],
   "source": [
    "import sys\n",
    "sys.path.append('../../../../..')"
   ]
  },
  {
   "cell_type": "markdown",
   "metadata": {},
   "source": [
    "### Load data"
   ]
  },
  {
   "cell_type": "code",
   "execution_count": 2,
   "metadata": {},
   "outputs": [
    {
     "name": "stdout",
     "output_type": "stream",
     "text": [
      "((150, 4), (150,))\n"
     ]
    }
   ],
   "source": [
    "from sklearn.datasets import load_iris\n",
    "\n",
    "iris_data = load_iris()\n",
    "\n",
    "X = iris_data.data\n",
    "y = iris_data.target\n",
    "\n",
    "print(X.shape, y.shape)"
   ]
  },
  {
   "cell_type": "markdown",
   "metadata": {},
   "source": [
    "### Train classifier"
   ]
  },
  {
   "cell_type": "code",
   "execution_count": 3,
   "metadata": {},
   "outputs": [
    {
     "data": {
      "text/plain": [
       "SVC(C=1.0, cache_size=200, class_weight=None, coef0=0.0,\n",
       "  decision_function_shape='ovr', degree=3, gamma=0.001, kernel='rbf',\n",
       "  max_iter=-1, probability=False, random_state=0, shrinking=True,\n",
       "  tol=0.001, verbose=False)"
      ]
     },
     "execution_count": 3,
     "metadata": {},
     "output_type": "execute_result"
    }
   ],
   "source": [
    "from sklearn import svm\n",
    "\n",
    "clf = svm.SVC(C=1., gamma=0.001, kernel='rbf', random_state=0)\n",
    "clf.fit(X, y)"
   ]
  },
  {
   "cell_type": "markdown",
   "metadata": {},
   "source": [
    "### Transpile classifier"
   ]
  },
  {
   "cell_type": "code",
   "execution_count": 4,
   "metadata": {},
   "outputs": [
    {
     "name": "stdout",
     "output_type": "stream",
     "text": [
      "<?php\n",
      "\n",
      "class SVC {\n",
      "\n",
      "    public function __construct($nClasses, $nRows, $vectors, $coefficients, $intercepts, $weights, $kernel, $gamma, $coef0, $degree) {\n",
      "        $this->nClasses = $nClasses;\n",
      "        $this->classes = array_fill(0, $nClasses, 0);\n",
      "        for ($i = 0; $i < $nClasses; $i++) {\n",
      "            $this->classes[$i] = $i;\n",
      "        }\n",
      "        $this->nRows = $nRows;\n",
      "\n",
      "        $this->vectors = $vectors;\n",
      "        $this->coefficients = $coefficients;\n",
      "        $this->intercepts = $intercepts;\n",
      "        $this->weights = $weights;\n",
      "\n",
      "        $this->kernel = strtoupper($kernel);\n",
      "        $this->gamma = $gamma;\n",
      "        $this->coef0 = $coef0;\n",
      "        $this->degree = $degree;\n",
      "    }\n",
      "\n",
      "    public function predict($features) {\n",
      "    \n",
      "        $kernels = array_fill(0, count($this->vectors), 0);\n",
      "        $kernel;\n",
      "        switch ($this->kernel) {\n",
      "            case 'LINEAR':\n",
      "                // <x,x'>\n",
      "                for ($i = 0; $i < count($this->vectors); $i++) {\n",
      "                    $kernel = 0.;\n",
      "                    for ($j = 0; $j < count($this->vectors[$i]); $j++) {\n",
      "                        $kernel += $this->vectors[$i][$j] * $features[$j];\n",
      "                    }\n",
      "                    $kernels[$i] = $kernel;\n",
      "                }\n",
      "                break;\n",
      "            case 'POLY':\n",
      "                // (y<x,x'>+r)^d\n",
      "                for ($i = 0; $i < count($this->vectors); $i++) {\n",
      "                    $kernel = 0.;\n",
      "                    for ($j = 0; $j < count($this->vectors[$i]); $j++) {\n",
      "                        $kernel += $this->vectors[$i][$j] * $features[$j];\n",
      "                    }\n",
      "                    $kernels[$i] = pow(($this->gamma * $kernel) + $this->coef0, $this->degree);\n",
      "                }\n",
      "                break;\n",
      "            case 'RBF':\n",
      "                // exp(-y|x-x'|^2)\n",
      "                for ($i = 0; $i < count($this->vectors); $i++) {\n",
      "                    $kernel = 0.;\n",
      "                    for ($j = 0; $j < count($this->vectors[$i]); $j++) {\n",
      "                        $kernel += pow($this->vectors[$i][$j] - $features[$j], 2);\n",
      "                    }\n",
      "                    $kernels[$i] = exp(-$this->gamma * $kernel);\n",
      "                }\n",
      "                break;\n",
      "            case 'SIGMOID':\n",
      "                // tanh(y<x,x'>+r)\n",
      "                for ($i = 0; $i < count($this->vectors); $i++) {\n",
      "                    $kernel = 0.;\n",
      "                    for ($j = 0; $j < count($this->vectors[$i]); $j++) {\n",
      "                        $kernel += $this->vectors[$i][$j] * $features[$j];\n",
      "                    }\n",
      "                    $kernels[$i] = tanh(($this->gamma * $kernel) + $this->coef0);\n",
      "                }\n",
      "                break;\n",
      "        }\n",
      "    \n",
      "        $starts = array_fill(0, $this->nRows, 0);\n",
      "        for ($i = 0; $i < $this->nRows; $i++) {\n",
      "            if ($i != 0) {\n",
      "                $start = 0;\n",
      "                for ($j = 0; $j < $i; $j++) {\n",
      "                    $start += $this->weights[$j];\n",
      "                }\n",
      "                $starts[$i] = $start;\n",
      "            } else {\n",
      "                $starts[0] = 0;\n",
      "            }\n",
      "        }\n",
      "    \n",
      "        $ends = array_fill(0, $this->nRows, 0);\n",
      "        for ($i = 0; $i < $this->nRows; $i++) {\n",
      "            $ends[$i] = $this->weights[$i] + $starts[$i];\n",
      "        }\n",
      "    \n",
      "        if ($this->nClasses == 2) {\n",
      "    \n",
      "            for ($i = 0; $i < count($kernels); $i++) {\n",
      "                $kernels[$i] = -$kernels[$i];\n",
      "            }\n",
      "    \n",
      "            $decision = 0.;\n",
      "            for ($k = $starts[1]; $k < $ends[1]; $k++) {\n",
      "                $decision += $kernels[$k] * $this->coefficients[0][$k];\n",
      "            }\n",
      "            for ($k = $starts[0]; $k < $ends[0]; $k++) {\n",
      "                $decision += $kernels[$k] * $this->coefficients[0][$k];\n",
      "            }\n",
      "            $decision += $this->intercepts[0];\n",
      "    \n",
      "            if ($decision > 0) {\n",
      "                return 0;\n",
      "            }\n",
      "            return 1;\n",
      "    \n",
      "        }\n",
      "    \n",
      "        $decisions = array_fill(0, count($this->intercepts), 0);\n",
      "        for ($i = 0, $d = 0, $l = $this->nRows; $i < $l; $i++) {\n",
      "            for ($j = $i + 1; $j < $l; $j++) {\n",
      "                $tmp = 0.;\n",
      "                for ($k = $starts[$j]; $k < $ends[$j]; $k++) {\n",
      "                    $tmp += $this->coefficients[$i][$k] * $kernels[$k];\n",
      "                }\n",
      "                for ($k = $starts[$i]; $k < $ends[$i]; $k++) {\n",
      "                    $tmp += $this->coefficients[$j - 1][$k] * $kernels[$k];\n",
      "                }\n",
      "                $decisions[$d] = $tmp + $this->intercepts[$d];\n",
      "                $d++;\n",
      "            }\n",
      "        }\n",
      "    \n",
      "        $votes = array_fill(0, count($this->intercepts), 0);\n",
      "        for ($i = 0, $d = 0, $l = $this->nRows; $i < $l; $i++) {\n",
      "            for ($j = $i + 1; $j < $l; $j++) {\n",
      "                $votes[$d] = $decisions[$d] > 0 ? $i : $j;\n",
      "                $d++;\n",
      "            }\n",
      "        }\n",
      "    \n",
      "        $amounts = array_fill(0, $this->nClasses, 0);\n",
      "        for ($i = 0, $l = count($votes); $i < $l; $i++) {\n",
      "            $amounts[$votes[$i]] += 1;\n",
      "        }\n",
      "    \n",
      "        $classVal = -1;\n",
      "        $classIdx = -1;\n",
      "        for ($i = 0, $l = count($amounts); $i < $l; $i++) {\n",
      "            if ($amounts[$i] > $classVal) {\n",
      "                $classVal = $amounts[$i];\n",
      "                $classIdx = $i;\n",
      "            }\n",
      "        }\n",
      "        return $this->classes[$classIdx];\n",
      "    \n",
      "    }\n",
      "\n",
      "}\n",
      "\n",
      "if ($argc > 1) {\n",
      "\n",
      "    // Features:\n",
      "    array_shift($argv);\n",
      "    $features = $argv;\n",
      "\n",
      "    // Parameters:\n",
      "    $vectors = [[5.1, 3.5, 1.4, 0.2], [4.9, 3.0, 1.4, 0.2], [4.7, 3.2, 1.3, 0.2], [4.6, 3.1, 1.5, 0.2], [5.0, 3.6, 1.4, 0.2], [5.4, 3.9, 1.7, 0.4], [4.6, 3.4, 1.4, 0.3], [5.0, 3.4, 1.5, 0.2], [4.4, 2.9, 1.4, 0.2], [4.9, 3.1, 1.5, 0.1], [5.4, 3.7, 1.5, 0.2], [4.8, 3.4, 1.6, 0.2], [4.8, 3.0, 1.4, 0.1], [4.3, 3.0, 1.1, 0.1], [5.8, 4.0, 1.2, 0.2], [5.7, 4.4, 1.5, 0.4], [5.4, 3.9, 1.3, 0.4], [5.1, 3.5, 1.4, 0.3], [5.7, 3.8, 1.7, 0.3], [5.1, 3.8, 1.5, 0.3], [5.4, 3.4, 1.7, 0.2], [5.1, 3.7, 1.5, 0.4], [4.6, 3.6, 1.0, 0.2], [5.1, 3.3, 1.7, 0.5], [4.8, 3.4, 1.9, 0.2], [5.0, 3.0, 1.6, 0.2], [5.0, 3.4, 1.6, 0.4], [5.2, 3.5, 1.5, 0.2], [5.2, 3.4, 1.4, 0.2], [4.7, 3.2, 1.6, 0.2], [4.8, 3.1, 1.6, 0.2], [5.4, 3.4, 1.5, 0.4], [5.2, 4.1, 1.5, 0.1], [5.5, 4.2, 1.4, 0.2], [4.9, 3.1, 1.5, 0.2], [5.0, 3.2, 1.2, 0.2], [5.5, 3.5, 1.3, 0.2], [4.9, 3.6, 1.4, 0.1], [4.4, 3.0, 1.3, 0.2], [5.1, 3.4, 1.5, 0.2], [5.0, 3.5, 1.3, 0.3], [4.5, 2.3, 1.3, 0.3], [4.4, 3.2, 1.3, 0.2], [5.0, 3.5, 1.6, 0.6], [5.1, 3.8, 1.9, 0.4], [4.8, 3.0, 1.4, 0.3], [5.1, 3.8, 1.6, 0.2], [4.6, 3.2, 1.4, 0.2], [5.3, 3.7, 1.5, 0.2], [5.0, 3.3, 1.4, 0.2], [7.0, 3.2, 4.7, 1.4], [6.4, 3.2, 4.5, 1.5], [6.9, 3.1, 4.9, 1.5], [5.5, 2.3, 4.0, 1.3], [6.5, 2.8, 4.6, 1.5], [5.7, 2.8, 4.5, 1.3], [6.3, 3.3, 4.7, 1.6], [4.9, 2.4, 3.3, 1.0], [6.6, 2.9, 4.6, 1.3], [5.2, 2.7, 3.9, 1.4], [5.0, 2.0, 3.5, 1.0], [5.9, 3.0, 4.2, 1.5], [6.0, 2.2, 4.0, 1.0], [6.1, 2.9, 4.7, 1.4], [5.6, 2.9, 3.6, 1.3], [6.7, 3.1, 4.4, 1.4], [5.6, 3.0, 4.5, 1.5], [5.8, 2.7, 4.1, 1.0], [6.2, 2.2, 4.5, 1.5], [5.6, 2.5, 3.9, 1.1], [5.9, 3.2, 4.8, 1.8], [6.1, 2.8, 4.0, 1.3], [6.3, 2.5, 4.9, 1.5], [6.1, 2.8, 4.7, 1.2], [6.4, 2.9, 4.3, 1.3], [6.6, 3.0, 4.4, 1.4], [6.8, 2.8, 4.8, 1.4], [6.7, 3.0, 5.0, 1.7], [6.0, 2.9, 4.5, 1.5], [5.7, 2.6, 3.5, 1.0], [5.5, 2.4, 3.8, 1.1], [5.5, 2.4, 3.7, 1.0], [5.8, 2.7, 3.9, 1.2], [6.0, 2.7, 5.1, 1.6], [5.4, 3.0, 4.5, 1.5], [6.0, 3.4, 4.5, 1.6], [6.7, 3.1, 4.7, 1.5], [6.3, 2.3, 4.4, 1.3], [5.6, 3.0, 4.1, 1.3], [5.5, 2.5, 4.0, 1.3], [5.5, 2.6, 4.4, 1.2], [6.1, 3.0, 4.6, 1.4], [5.8, 2.6, 4.0, 1.2], [5.0, 2.3, 3.3, 1.0], [5.6, 2.7, 4.2, 1.3], [5.7, 3.0, 4.2, 1.2], [5.7, 2.9, 4.2, 1.3], [6.2, 2.9, 4.3, 1.3], [5.1, 2.5, 3.0, 1.1], [5.7, 2.8, 4.1, 1.3], [6.3, 3.3, 6.0, 2.5], [5.8, 2.7, 5.1, 1.9], [7.1, 3.0, 5.9, 2.1], [6.3, 2.9, 5.6, 1.8], [6.5, 3.0, 5.8, 2.2], [7.6, 3.0, 6.6, 2.1], [4.9, 2.5, 4.5, 1.7], [7.3, 2.9, 6.3, 1.8], [6.7, 2.5, 5.8, 1.8], [7.2, 3.6, 6.1, 2.5], [6.5, 3.2, 5.1, 2.0], [6.4, 2.7, 5.3, 1.9], [6.8, 3.0, 5.5, 2.1], [5.7, 2.5, 5.0, 2.0], [5.8, 2.8, 5.1, 2.4], [6.4, 3.2, 5.3, 2.3], [6.5, 3.0, 5.5, 1.8], [7.7, 3.8, 6.7, 2.2], [7.7, 2.6, 6.9, 2.3], [6.0, 2.2, 5.0, 1.5], [6.9, 3.2, 5.7, 2.3], [5.6, 2.8, 4.9, 2.0], [7.7, 2.8, 6.7, 2.0], [6.3, 2.7, 4.9, 1.8], [6.7, 3.3, 5.7, 2.1], [7.2, 3.2, 6.0, 1.8], [6.2, 2.8, 4.8, 1.8], [6.1, 3.0, 4.9, 1.8], [6.4, 2.8, 5.6, 2.1], [7.2, 3.0, 5.8, 1.6], [7.4, 2.8, 6.1, 1.9], [7.9, 3.8, 6.4, 2.0], [6.4, 2.8, 5.6, 2.2], [6.3, 2.8, 5.1, 1.5], [6.1, 2.6, 5.6, 1.4], [7.7, 3.0, 6.1, 2.3], [6.3, 3.4, 5.6, 2.4], [6.4, 3.1, 5.5, 1.8], [6.0, 3.0, 4.8, 1.8], [6.9, 3.1, 5.4, 2.1], [6.7, 3.1, 5.6, 2.4], [6.9, 3.1, 5.1, 2.3], [5.8, 2.7, 5.1, 1.9], [6.8, 3.2, 5.9, 2.3], [6.7, 3.3, 5.7, 2.5], [6.7, 3.0, 5.2, 2.3], [6.3, 2.5, 5.0, 1.9], [6.5, 3.0, 5.2, 2.0], [6.2, 3.4, 5.4, 2.3], [5.9, 3.0, 5.1, 1.8]];\n",
      "    $coefficients = [[1.0, 1.0, 1.0, 1.0, 1.0, 1.0, 1.0, 1.0, 1.0, 1.0, 1.0, 1.0, 1.0, 1.0, 1.0, 1.0, 1.0, 1.0, 1.0, 1.0, 1.0, 1.0, 1.0, 1.0, 1.0, 1.0, 1.0, 1.0, 1.0, 1.0, 1.0, 1.0, 1.0, 1.0, 1.0, 1.0, 1.0, 1.0, 1.0, 1.0, 1.0, 1.0, 1.0, 1.0, 1.0, 1.0, 1.0, 1.0, 1.0, 1.0, -1.0, -1.0, -1.0, -1.0, -1.0, -1.0, -1.0, -1.0, -1.0, -1.0, -1.0, -1.0, -1.0, -1.0, -1.0, -1.0, -1.0, -1.0, -1.0, -1.0, -1.0, -1.0, -1.0, -1.0, -1.0, -1.0, -1.0, -1.0, -1.0, -1.0, -1.0, -1.0, -1.0, -1.0, -1.0, -1.0, -1.0, -1.0, -1.0, -1.0, -1.0, -1.0, -1.0, -1.0, -1.0, -1.0, -1.0, -1.0, -1.0, -1.0, -1.0, -1.0, -1.0, -1.0, -1.0, -0.0, -1.0, -0.0, -1.0, -0.0, -1.0, -1.0, -1.0, -1.0, -1.0, -1.0, -1.0, -0.0, -0.0, -1.0, -1.0, -1.0, -0.0, -1.0, -1.0, -1.0, -1.0, -1.0, -1.0, -1.0, -0.0, -0.0, -1.0, -1.0, -1.0, -0.0, -1.0, -1.0, -1.0, -1.0, -1.0, -1.0, -1.0, -1.0, -1.0, -1.0, -1.0, -1.0, -1.0, -1.0], [1.0, 1.0, 0.0, 1.0, 1.0, 1.0, 1.0, 1.0, 0.0, 1.0, 1.0, 1.0, 1.0, 0.0, 1.0, 1.0, 1.0, 1.0, 1.0, 1.0, 1.0, 1.0, 0.0, 1.0, 1.0, 1.0, 1.0, 1.0, 1.0, 1.0, 1.0, 1.0, 1.0, 1.0, 1.0, 0.0, 1.0, 0.0, 0.0, 1.0, 1.0, 1.0, 0.0, 1.0, 1.0, 1.0, 1.0, 0.0, 1.0, 1.0, 1.0, 1.0, 1.0, 1.0, 1.0, 1.0, 1.0, 1.0, 1.0, 1.0, 1.0, 1.0, 1.0, 1.0, 1.0, 1.0, 1.0, 1.0, 1.0, 1.0, 1.0, 1.0, 1.0, 1.0, 1.0, 1.0, 1.0, 1.0, 1.0, 1.0, 1.0, 1.0, 1.0, 1.0, 1.0, 1.0, 1.0, 1.0, 1.0, 1.0, 1.0, 1.0, 1.0, 1.0, 1.0, 1.0, 1.0, 1.0, 1.0, 1.0, -1.0, -1.0, -1.0, -1.0, -1.0, -1.0, -1.0, -1.0, -1.0, -1.0, -1.0, -1.0, -1.0, -1.0, -1.0, -1.0, -1.0, -1.0, -1.0, -1.0, -1.0, -1.0, -1.0, -1.0, -1.0, -1.0, -1.0, -1.0, -1.0, -1.0, -1.0, -1.0, -1.0, -1.0, -1.0, -1.0, -1.0, -1.0, -1.0, -1.0, -1.0, -1.0, -1.0, -1.0, -1.0, -1.0, -1.0, -1.0, -1.0, -1.0]];\n",
      "    $intercepts = [0.04357001185417175, 0.11042118072509766, -0.0031709671020507812];\n",
      "    $weights = [50, 50, 50];\n",
      "\n",
      "    // Prediction:\n",
      "    $clf = new SVC(3, 3, $vectors, $coefficients, $intercepts, $weights, \"rbf\", 0.001, 0.0, 3);\n",
      "    $prediction = $clf->predict($features);\n",
      "    fwrite(STDOUT, $prediction);\n",
      "\n",
      "}\n"
     ]
    }
   ],
   "source": [
    "from sklearn_porter import Porter\n",
    "\n",
    "porter = Porter(clf, language='php')\n",
    "output = porter.export()\n",
    "\n",
    "print(output)"
   ]
  }
 ],
 "metadata": {
  "jupytext": {
   "main_language": "python",
   "text_representation": {
    "extension": ".py",
    "format_name": "percent"
   }
  },
  "language_info": {
   "codemirror_mode": {
    "name": "ipython",
    "version": 2
   },
   "file_extension": ".py",
   "mimetype": "text/x-python",
   "name": "python",
   "nbconvert_exporter": "python",
   "pygments_lexer": "ipython2",
   "version": "2.7.15"
  }
 },
 "nbformat": 4,
 "nbformat_minor": 2
}
