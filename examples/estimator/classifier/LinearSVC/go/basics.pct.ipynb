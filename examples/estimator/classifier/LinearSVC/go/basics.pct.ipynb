{
 "cells": [
  {
   "cell_type": "markdown",
   "metadata": {},
   "source": [
    "# sklearn-porter\n",
    "\n",
    "Repository: [https://github.com/nok/sklearn-porter](https://github.com/nok/sklearn-porter)\n",
    "\n",
    "## LinearSVC\n",
    "\n",
    "Documentation: [sklearn.svm.LinearSVC](http://scikit-learn.org/stable/modules/generated/sklearn.svm.LinearSVC.html)"
   ]
  },
  {
   "cell_type": "code",
   "execution_count": 1,
   "metadata": {},
   "outputs": [],
   "source": [
    "import sys\n",
    "sys.path.append('../../../../..')"
   ]
  },
  {
   "cell_type": "markdown",
   "metadata": {},
   "source": [
    "### Load data"
   ]
  },
  {
   "cell_type": "code",
   "execution_count": 2,
   "metadata": {},
   "outputs": [
    {
     "name": "stdout",
     "output_type": "stream",
     "text": [
      "((150, 4), (150,))\n"
     ]
    }
   ],
   "source": [
    "from sklearn.datasets import load_iris\n",
    "\n",
    "iris_data = load_iris()\n",
    "\n",
    "X = iris_data.data\n",
    "y = iris_data.target\n",
    "\n",
    "print(X.shape, y.shape)"
   ]
  },
  {
   "cell_type": "markdown",
   "metadata": {},
   "source": [
    "### Train classifier"
   ]
  },
  {
   "cell_type": "code",
   "execution_count": 3,
   "metadata": {},
   "outputs": [
    {
     "name": "stderr",
     "output_type": "stream",
     "text": [
      "/opt/miniconda/envs/sklearn-porter/lib/python2.7/site-packages/sklearn/svm/base.py:922: ConvergenceWarning: Liblinear failed to converge, increase the number of iterations.\n",
      "  \"the number of iterations.\", ConvergenceWarning)\n"
     ]
    },
    {
     "data": {
      "text/plain": [
       "LinearSVC(C=1.0, class_weight=None, dual=True, fit_intercept=True,\n",
       "     intercept_scaling=1, loss='squared_hinge', max_iter=1000,\n",
       "     multi_class='ovr', penalty='l2', random_state=0, tol=0.0001,\n",
       "     verbose=0)"
      ]
     },
     "execution_count": 3,
     "metadata": {},
     "output_type": "execute_result"
    }
   ],
   "source": [
    "from sklearn import svm\n",
    "\n",
    "clf = svm.LinearSVC(C=1., random_state=0)\n",
    "clf.fit(X, y)"
   ]
  },
  {
   "cell_type": "markdown",
   "metadata": {},
   "source": [
    "### Transpile classifier"
   ]
  },
  {
   "cell_type": "code",
   "execution_count": 4,
   "metadata": {},
   "outputs": [
    {
     "name": "stdout",
     "output_type": "stream",
     "text": [
      "package main\n",
      "\n",
      "import (\n",
      "\t\"os\"\n",
      "\t\"fmt\"\n",
      "\t\"strconv\"\n",
      "\t\"math\"\n",
      ")\n",
      "\n",
      "type LinearSVC struct {\n",
      "\tcoefficients [][]float64\n",
      "\tintercepts []float64\n",
      "}\n",
      "\n",
      "func (svc LinearSVC) predict(features []float64) int {\n",
      "\tclassIdx := 0\n",
      "\tclassVal := math.Inf(-1)\n",
      "\touterCount, innerCount := len(svc.coefficients), len(svc.coefficients[0])\n",
      "\tfor i := 0; i < outerCount; i++ {\n",
      "\t\tvar prob float64\n",
      "\t\tfor j := 0; j < innerCount; j++ {\n",
      "\t\t\tprob = prob + svc.coefficients[i][j] * features[j]\n",
      "\t\t}\n",
      "\t\tif prob + svc.intercepts[i] > classVal {\n",
      "\t\t\tclassVal = prob + svc.intercepts[i]\n",
      "\t\t\tclassIdx = i\n",
      "\t\t}\n",
      "\t}\n",
      "\treturn classIdx\n",
      "}\n",
      "\n",
      "func main() {\n",
      "\n",
      "\t// Features:\n",
      "\tvar features []float64\n",
      "\tfor _, arg := range os.Args[1:] {\n",
      "\t\tif n, err := strconv.ParseFloat(arg, 64); err == nil {\n",
      "\t\t\tfeatures = append(features, n)\n",
      "\t\t}\n",
      "\t}\n",
      "\n",
      "\t// Parameters:\n",
      "\tcoefficients := [][]float64{{0.1842387105153816, 0.45123226735416666, -0.8079442418237148, -0.4507120994138801}, {0.05538075463135362, -0.9011091317807134, 0.40964725305179495, -0.9616708418438406}, {-0.8507797840387784, -0.9866797559823655, 1.380978948733964, 1.865367212912733}}\n",
      "\tintercepts := []float64{0.10956037385996253, 1.6860176665898299, -1.7096500573837932}\n",
      "\n",
      "\t// Prediction:\n",
      "\tclf := LinearSVC{coefficients, intercepts}\n",
      "\testimation := clf.predict(features)\n",
      "\tfmt.Printf(\"%d\\n\", estimation)\n",
      "\n",
      "}\n"
     ]
    }
   ],
   "source": [
    "from sklearn_porter import Porter\n",
    "\n",
    "porter = Porter(clf, language='go')\n",
    "output = porter.export()\n",
    "\n",
    "print(output)"
   ]
  }
 ],
 "metadata": {
  "jupytext": {
   "main_language": "python",
   "text_representation": {
    "extension": ".py",
    "format_name": "percent"
   }
  },
  "language_info": {
   "codemirror_mode": {
    "name": "ipython",
    "version": 2
   },
   "file_extension": ".py",
   "mimetype": "text/x-python",
   "name": "python",
   "nbconvert_exporter": "python",
   "pygments_lexer": "ipython2",
   "version": "2.7.15"
  }
 },
 "nbformat": 4,
 "nbformat_minor": 2
}
