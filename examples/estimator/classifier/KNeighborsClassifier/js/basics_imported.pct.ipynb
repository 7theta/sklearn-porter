{
 "cells": [
  {
   "cell_type": "markdown",
   "metadata": {},
   "source": [
    "# sklearn-porter\n",
    "\n",
    "Repository: [https://github.com/nok/sklearn-porter](https://github.com/nok/sklearn-porter)\n",
    "\n",
    "## KNeighborsClassifier\n",
    "\n",
    "Documentation: [sklearn.neighbors.KNeighborsClassifier](http://scikit-learn.org/stable/modules/generated/sklearn.neighbors.KNeighborsClassifier.html)"
   ]
  },
  {
   "cell_type": "code",
   "execution_count": 1,
   "metadata": {},
   "outputs": [],
   "source": [
    "import sys\n",
    "sys.path.append('../../../../..')"
   ]
  },
  {
   "cell_type": "markdown",
   "metadata": {},
   "source": [
    "### Load data"
   ]
  },
  {
   "cell_type": "code",
   "execution_count": 2,
   "metadata": {},
   "outputs": [
    {
     "name": "stdout",
     "output_type": "stream",
     "text": [
      "((150, 4), (150,))\n"
     ]
    }
   ],
   "source": [
    "from sklearn.datasets import load_iris\n",
    "\n",
    "iris_data = load_iris()\n",
    "\n",
    "X = iris_data.data\n",
    "y = iris_data.target\n",
    "\n",
    "print(X.shape, y.shape)"
   ]
  },
  {
   "cell_type": "markdown",
   "metadata": {},
   "source": [
    "### Train classifier"
   ]
  },
  {
   "cell_type": "code",
   "execution_count": 3,
   "metadata": {},
   "outputs": [
    {
     "data": {
      "text/plain": [
       "KNeighborsClassifier(algorithm='brute', leaf_size=30, metric='minkowski',\n",
       "           metric_params=None, n_jobs=None, n_neighbors=3, p=2,\n",
       "           weights='uniform')"
      ]
     },
     "execution_count": 3,
     "metadata": {},
     "output_type": "execute_result"
    }
   ],
   "source": [
    "from sklearn.neighbors import KNeighborsClassifier\n",
    "\n",
    "clf = KNeighborsClassifier(algorithm='brute', n_neighbors=3, weights='uniform')\n",
    "clf.fit(X, y)"
   ]
  },
  {
   "cell_type": "markdown",
   "metadata": {},
   "source": [
    "### Transpile classifier"
   ]
  },
  {
   "cell_type": "code",
   "execution_count": 4,
   "metadata": {},
   "outputs": [
    {
     "name": "stdout",
     "output_type": "stream",
     "text": [
      "if (typeof XMLHttpRequest === 'undefined') {\n",
      "    var XMLHttpRequest = require(\"xmlhttprequest\").XMLHttpRequest;\n",
      "}\n",
      "\n",
      "var KNeighborsClassifier = function(jsonFile) {\n",
      "    this.data = undefined;\n",
      "\n",
      "    var Neighbor = function(y, dist) {\n",
      "        this.y = y;\n",
      "        this.dist = dist;\n",
      "    };\n",
      "\n",
      "    var promise = new Promise(function(resolve, reject) {\n",
      "        var httpRequest = new XMLHttpRequest();\n",
      "        httpRequest.onreadystatechange = function() {\n",
      "            if (httpRequest.readyState === 4) {\n",
      "                if (httpRequest.status === 200) {\n",
      "                    resolve(JSON.parse(httpRequest.responseText));\n",
      "                } else {\n",
      "                    reject(new Error(httpRequest.statusText));\n",
      "                }\n",
      "            }\n",
      "        };\n",
      "        httpRequest.open('GET', jsonFile, true);\n",
      "        httpRequest.send();\n",
      "    });\n",
      "\n",
      "    var compute = function(temp, cand, q) {\n",
      "        var dist = 0.,\n",
      "            diff;\n",
      "        for (var i = 0, l = temp.length; i < l; i++) {\n",
      "    \t    diff = Math.abs(temp[i] - cand[i]);\n",
      "    \t    if (q==1) {\n",
      "    \t        dist += diff;\n",
      "    \t    } else if (q==2) {\n",
      "    \t        dist += diff*diff;\n",
      "    \t    } else if (q==Number.POSITIVE_INFINITY) {\n",
      "    \t        if (diff > dist) {\n",
      "    \t            dist = diff;\n",
      "    \t        }\n",
      "    \t    } else {\n",
      "    \t        dist += Math.pow(diff, q);\n",
      "            }\n",
      "        }\n",
      "        if (q==1 || q==Number.POSITIVE_INFINITY) {\n",
      "            return dist;\n",
      "        } else if (q==2) {\n",
      "            return Math.sqrt(dist);\n",
      "        } else {\n",
      "            return Math.pow(dist, 1. / q);\n",
      "        }\n",
      "    };\n",
      "\n",
      "    this.predict = function(features) {\n",
      "        return new Promise(function(resolve, reject) {\n",
      "            promise.then(function(data) {\n",
      "                if (typeof this.data === 'undefined') {\n",
      "                    this.data = data;\n",
      "                    this.nTemplates = this.data.X.length;\n",
      "                }\n",
      "                var classIdx = 0, i, dist;\n",
      "                if (this.data.nNeighbors == 1) {\n",
      "                    var minDist = Number.POSITIVE_INFINITY;\n",
      "                    for (i = 0; i < this.data.nTemplates; i++) {\n",
      "                        dist = compute(this.data.X[i], features, this.data.power);\n",
      "                        if (dist <= minDist) {\n",
      "                            minDist = dist;\n",
      "                            classIdx = this.data.y[i];\n",
      "                        }\n",
      "                    }\n",
      "                } else {\n",
      "                    var classes = new Array(this.data.nClasses).fill(0);\n",
      "                    var dists = [];\n",
      "                    for (i = 0; i < this.nTemplates; i++) {\n",
      "                        dist = compute(this.data.X[i], features, this.data.power);\n",
      "                        dists.push(new Neighbor(this.data.y[i], dist));\n",
      "                    }\n",
      "                    dists.sort(function compare(n1, n2) {\n",
      "                        return (n1.dist < n2.dist) ? -1 : 1;\n",
      "                    });\n",
      "                    for (i = 0; i < this.data.kNeighbors; i++) {\n",
      "                        classes[dists[i].y]++;\n",
      "                    }\n",
      "                    for (i = 0; i < this.data.nClasses; i++) {\n",
      "                        classIdx = classes[i] > classes[classIdx] ? i : classIdx;\n",
      "                    }\n",
      "                }\n",
      "                resolve(classIdx);\n",
      "            }, function(error) {\n",
      "                reject(error);\n",
      "            });\n",
      "        });\n",
      "    };\n",
      "\n",
      "};\n",
      "\n",
      "if (typeof process !== 'undefined' && typeof process.argv !== 'undefined') {\n",
      "    if (process.argv[2].trim().endsWith('.json')) {\n",
      "\n",
      "        // Features:\n",
      "        var features = process.argv.slice(3);\n",
      "\n",
      "        // Parameters:\n",
      "        var json = process.argv[2];\n",
      "\n",
      "        // Estimator:\n",
      "        var clf = new KNeighborsClassifier(json);\n",
      "\n",
      "        // Prediction:\n",
      "        clf.predict(features).then(function(prediction) {\n",
      "            console.log(prediction);\n",
      "        });\n",
      "\n",
      "    }\n",
      "}\n"
     ]
    }
   ],
   "source": [
    "from sklearn_porter import Porter\n",
    "\n",
    "porter = Porter(clf, language='js')\n",
    "output = porter.export(export_data=True)\n",
    "\n",
    "print(output)"
   ]
  },
  {
   "cell_type": "markdown",
   "metadata": {},
   "source": [
    "### Run classification in JavaScript"
   ]
  },
  {
   "cell_type": "code",
   "execution_count": 5,
   "metadata": {},
   "outputs": [],
   "source": [
    "# Save classifier:\n",
    "# with open('KNeighborsClassifier.js', 'w') as f:\n",
    "#     f.write(output)\n",
    "\n",
    "# Check model data:\n",
    "# $ cat data.json\n",
    "\n",
    "# Run classification:\n",
    "# if hash node 2/dev/null; then\n",
    "#     python -m SimpleHTTPServer 8877 & serve_pid=$!\n",
    "#     node KNeighborsClassifier.js http://127.0.0.1:8877/data.json 1 2 3 4\n",
    "#     kill $serve_pid\n",
    "# fi"
   ]
  }
 ],
 "metadata": {
  "jupytext": {
   "main_language": "python",
   "text_representation": {
    "extension": ".py",
    "format_name": "percent"
   }
  },
  "language_info": {
   "codemirror_mode": {
    "name": "ipython",
    "version": 2
   },
   "file_extension": ".py",
   "mimetype": "text/x-python",
   "name": "python",
   "nbconvert_exporter": "python",
   "pygments_lexer": "ipython2",
   "version": "2.7.15"
  }
 },
 "nbformat": 4,
 "nbformat_minor": 2
}
