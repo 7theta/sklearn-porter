{
 "cells": [
  {
   "cell_type": "markdown",
   "metadata": {},
   "source": [
    "# sklearn-porter\n",
    "\n",
    "Repository: [https://github.com/nok/sklearn-porter](https://github.com/nok/sklearn-porter)\n",
    "\n",
    "## KNeighborsClassifier\n",
    "\n",
    "Documentation: [sklearn.neighbors.KNeighborsClassifier](http://scikit-learn.org/stable/modules/generated/sklearn.neighbors.KNeighborsClassifier.html)"
   ]
  },
  {
   "cell_type": "code",
   "execution_count": 1,
   "metadata": {},
   "outputs": [],
   "source": [
    "import sys\n",
    "sys.path.append('../../../../..')"
   ]
  },
  {
   "cell_type": "markdown",
   "metadata": {},
   "source": [
    "### Load data"
   ]
  },
  {
   "cell_type": "code",
   "execution_count": 2,
   "metadata": {},
   "outputs": [
    {
     "name": "stdout",
     "output_type": "stream",
     "text": [
      "((150, 4), (150,))\n"
     ]
    }
   ],
   "source": [
    "from sklearn.datasets import load_iris\n",
    "\n",
    "iris_data = load_iris()\n",
    "\n",
    "X = iris_data.data\n",
    "y = iris_data.target\n",
    "\n",
    "print(X.shape, y.shape)"
   ]
  },
  {
   "cell_type": "markdown",
   "metadata": {},
   "source": [
    "### Train classifier"
   ]
  },
  {
   "cell_type": "code",
   "execution_count": 3,
   "metadata": {},
   "outputs": [
    {
     "data": {
      "text/plain": [
       "KNeighborsClassifier(algorithm='brute', leaf_size=30, metric='minkowski',\n",
       "           metric_params=None, n_jobs=None, n_neighbors=3, p=2,\n",
       "           weights='uniform')"
      ]
     },
     "execution_count": 3,
     "metadata": {},
     "output_type": "execute_result"
    }
   ],
   "source": [
    "from sklearn.neighbors import KNeighborsClassifier\n",
    "\n",
    "clf = KNeighborsClassifier(algorithm='brute', n_neighbors=3, weights='uniform')\n",
    "clf.fit(X, y)"
   ]
  },
  {
   "cell_type": "markdown",
   "metadata": {},
   "source": [
    "### Transpile classifier"
   ]
  },
  {
   "cell_type": "code",
   "execution_count": 4,
   "metadata": {},
   "outputs": [
    {
     "name": "stdout",
     "output_type": "stream",
     "text": [
      "import java.io.File;\n",
      "import java.io.FileNotFoundException;\n",
      "import java.util.*;\n",
      "import com.google.gson.Gson;\n",
      "\n",
      "\n",
      "class KNeighborsClassifier {\n",
      "\n",
      "    private class Classifier {\n",
      "        private int kNeighbors;\n",
      "        private int nClasses;\n",
      "        private double power;\n",
      "        private double[][] X;\n",
      "        private int[] y;\n",
      "    }\n",
      "\n",
      "    private class Sample {\n",
      "        Integer y;\n",
      "        Double dist;\n",
      "        private Sample(int y, double distance) {\n",
      "            this.y = y;\n",
      "            this.dist = distance;\n",
      "        }\n",
      "    }\n",
      "\n",
      "    private Classifier clf;\n",
      "    private int nTemplates;\n",
      "\n",
      "    public KNeighborsClassifier(String file) throws FileNotFoundException {\n",
      "        String jsonStr = new Scanner(new File(file)).useDelimiter(\"\\\\Z\").next();\n",
      "        this.clf = new Gson().fromJson(jsonStr, Classifier.class);\n",
      "        this.nTemplates = this.clf.y.length;\n",
      "    }\n",
      "\n",
      "    private static double compute(double[] temp, double[] cand, double q) {\n",
      "        double dist = 0.;\n",
      "        double diff;\n",
      "        for (int i = 0, l = temp.length; i < l; i++) {\n",
      "            diff = Math.abs(temp[i] - cand[i]);\n",
      "            if (q==1) {\n",
      "                dist += diff;\n",
      "            } else if (q==2) {\n",
      "                dist += diff*diff;\n",
      "            } else if (q==Double.POSITIVE_INFINITY) {\n",
      "                if (diff > dist) {\n",
      "                    dist = diff;\n",
      "                }\n",
      "            } else {\n",
      "                dist += Math.pow(diff, q);\n",
      "            }\n",
      "        }\n",
      "        if (q==1 || q==Double.POSITIVE_INFINITY) {\n",
      "            return dist;\n",
      "        } else if (q==2) {\n",
      "            return Math.sqrt(dist);\n",
      "        } else {\n",
      "            return Math.pow(dist, 1. / q);\n",
      "        }\n",
      "    }\n",
      "\n",
      "    public int predict(double[] features) {\n",
      "        int classIdx = 0;\n",
      "        if (this.clf.kNeighbors == 1) {\n",
      "            double minDist = Double.POSITIVE_INFINITY;\n",
      "            double curDist;\n",
      "            for (int i = 0; i < this.nTemplates; i++) {\n",
      "                curDist = KNeighborsClassifier.compute(this.clf.X[i],\n",
      "                        features, this.clf.power);\n",
      "                if (curDist <= minDist) {\n",
      "                    minDist = curDist;\n",
      "                    classIdx = this.clf.y[i];\n",
      "                }\n",
      "            }\n",
      "        } else {\n",
      "            int[] classes = new int[this.clf.nClasses];\n",
      "            ArrayList<Sample> dists = new ArrayList<Sample>();\n",
      "            for (int i = 0; i < this.nTemplates; i++) {\n",
      "                double dist = KNeighborsClassifier.compute(\n",
      "                        this.clf.X[i], features, this.clf.power);\n",
      "                dists.add(new Sample(this.clf.y[i], dist));\n",
      "            }\n",
      "            Collections.sort(dists, new Comparator<Sample>() {\n",
      "                @Override\n",
      "                public int compare(Sample n1, Sample n2) {\n",
      "                    return n1.dist.compareTo(n2.dist);\n",
      "                }\n",
      "            });\n",
      "            for (Sample neighbor : dists.subList(0, this.clf.kNeighbors)) {\n",
      "                classes[neighbor.y]++;\n",
      "            }\n",
      "            for (int i = 0; i < this.clf.nClasses; i++) {\n",
      "                classIdx = classes[i] > classes[classIdx] ? i : classIdx;\n",
      "            }\n",
      "        }\n",
      "        return classIdx;\n",
      "    }\n",
      "\n",
      "    public static void main(String[] args) throws FileNotFoundException {\n",
      "        if (args.length > 0 && args[0].endsWith(\".json\")) {\n",
      "\n",
      "            // Features:\n",
      "            double[] features = new double[args.length-1];\n",
      "            for (int i = 1, l = args.length; i < l; i++) {\n",
      "                features[i - 1] = Double.parseDouble(args[i]);\n",
      "            }\n",
      "\n",
      "            // Parameters:\n",
      "            String modelData = args[0];\n",
      "\n",
      "            // Estimators:\n",
      "            KNeighborsClassifier clf = new KNeighborsClassifier(modelData);\n",
      "\n",
      "            // Prediction:\n",
      "            int prediction = clf.predict(features);\n",
      "            System.out.println(prediction);\n",
      "\n",
      "        }\n",
      "    }\n",
      "}\n"
     ]
    }
   ],
   "source": [
    "from sklearn_porter import Porter\n",
    "\n",
    "porter = Porter(clf, language='java')\n",
    "output = porter.export(export_data=True)\n",
    "\n",
    "print(output)"
   ]
  },
  {
   "cell_type": "markdown",
   "metadata": {},
   "source": [
    "### Run classification in Java"
   ]
  },
  {
   "cell_type": "code",
   "execution_count": 5,
   "metadata": {},
   "outputs": [],
   "source": [
    "# Save classifier:\n",
    "# with open('KNeighborsClassifier.java', 'w') as f:\n",
    "#     f.write(output)\n",
    "\n",
    "# Check model data:\n",
    "# $ cat data.json\n",
    "\n",
    "# Download dependencies:\n",
    "# $ wget -O gson.jar http://central.maven.org/maven2/com/google/code/gson/gson/2.8.5/gson-2.8.5.jar\n",
    "\n",
    "# Compile model:\n",
    "# $ javac -cp .:gson.jar KNeighborsClassifier.java\n",
    "\n",
    "# Run classification:\n",
    "# $ java -cp .:gson.jar KNeighborsClassifier data.json 1 2 3 4"
   ]
  }
 ],
 "metadata": {
  "jupytext": {
   "main_language": "python",
   "text_representation": {
    "extension": ".py",
    "format_name": "percent"
   }
  },
  "language_info": {
   "codemirror_mode": {
    "name": "ipython",
    "version": 2
   },
   "file_extension": ".py",
   "mimetype": "text/x-python",
   "name": "python",
   "nbconvert_exporter": "python",
   "pygments_lexer": "ipython2",
   "version": "2.7.15"
  }
 },
 "nbformat": 4,
 "nbformat_minor": 2
}
