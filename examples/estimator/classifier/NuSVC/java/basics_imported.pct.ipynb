{
 "cells": [
  {
   "cell_type": "markdown",
   "metadata": {},
   "source": [
    "# sklearn-porter\n",
    "\n",
    "Repository: [https://github.com/nok/sklearn-porter](https://github.com/nok/sklearn-porter)\n",
    "\n",
    "## NuSVC\n",
    "\n",
    "Documentation: [sklearn.svm.NuSVC](http://scikit-learn.org/stable/modules/generated/sklearn.svm.NuSVC.html)"
   ]
  },
  {
   "cell_type": "code",
   "execution_count": 1,
   "metadata": {},
   "outputs": [],
   "source": [
    "import sys\n",
    "sys.path.append('../../../../..')"
   ]
  },
  {
   "cell_type": "markdown",
   "metadata": {},
   "source": [
    "### Load data"
   ]
  },
  {
   "cell_type": "code",
   "execution_count": 2,
   "metadata": {},
   "outputs": [
    {
     "name": "stdout",
     "output_type": "stream",
     "text": [
      "((150, 4), (150,))\n"
     ]
    }
   ],
   "source": [
    "from sklearn.datasets import load_iris\n",
    "\n",
    "iris_data = load_iris()\n",
    "\n",
    "X = iris_data.data\n",
    "y = iris_data.target\n",
    "\n",
    "print(X.shape, y.shape)"
   ]
  },
  {
   "cell_type": "markdown",
   "metadata": {},
   "source": [
    "### Train classifier"
   ]
  },
  {
   "cell_type": "code",
   "execution_count": 3,
   "metadata": {},
   "outputs": [
    {
     "data": {
      "text/plain": [
       "NuSVC(cache_size=200, class_weight=None, coef0=0.0,\n",
       "   decision_function_shape='ovr', degree=3, gamma=0.001, kernel='rbf',\n",
       "   max_iter=-1, nu=0.5, probability=False, random_state=0, shrinking=True,\n",
       "   tol=0.001, verbose=False)"
      ]
     },
     "execution_count": 3,
     "metadata": {},
     "output_type": "execute_result"
    }
   ],
   "source": [
    "from sklearn import svm\n",
    "\n",
    "clf = svm.NuSVC(gamma=0.001, kernel='rbf', random_state=0)\n",
    "clf.fit(X, y)"
   ]
  },
  {
   "cell_type": "markdown",
   "metadata": {},
   "source": [
    "### Transpile classifier"
   ]
  },
  {
   "cell_type": "code",
   "execution_count": 4,
   "metadata": {},
   "outputs": [
    {
     "name": "stdout",
     "output_type": "stream",
     "text": [
      "import java.io.File;\n",
      "import java.io.FileNotFoundException;\n",
      "import java.io.IOException;\n",
      "import java.util.Scanner;\n",
      "import com.google.gson.Gson;\n",
      "\n",
      "\n",
      "class NuSVC {\n",
      "\n",
      "    private enum Kernel { LINEAR, POLY, RBF, SIGMOID }\n",
      "    private class Classifier {\n",
      "        private int nClasses;\n",
      "        private int nRows;\n",
      "        private int[] classes;\n",
      "        private double[][] vectors;\n",
      "        private double[][] coefficients;\n",
      "        private double[] intercepts;\n",
      "        private int[] weights;\n",
      "        private String kernel;\n",
      "        private Kernel kkernel;\n",
      "        private double gamma;\n",
      "        private double coef0;\n",
      "        private double degree;\n",
      "    }\n",
      "\n",
      "    private Classifier clf;\n",
      "\n",
      "    public NuSVC(String file) throws FileNotFoundException {\n",
      "        String jsonStr = new Scanner(new File(file)).useDelimiter(\"\\\\Z\").next();\n",
      "        this.clf = new Gson().fromJson(jsonStr, Classifier.class);\n",
      "        this.clf.classes = new int[this.clf.nClasses];\n",
      "        for (int i = 0; i < this.clf.nClasses; i++) {\n",
      "            this.clf.classes[i] = i;\n",
      "        }\n",
      "        this.clf.kkernel = Kernel.valueOf(this.clf.kernel.toUpperCase());\n",
      "    }\n",
      "\n",
      "    public int predict(double[] features) {\n",
      "        double[] kernels = new double[this.clf.vectors.length];\n",
      "        double kernel;\n",
      "        switch (this.clf.kkernel) {\n",
      "            case LINEAR:\n",
      "                // <x,x'>\n",
      "                for (int i = 0; i < this.clf.vectors.length; i++) {\n",
      "                    kernel = 0.;\n",
      "                    for (int j = 0; j < this.clf.vectors[i].length; j++) {\n",
      "                        kernel += this.clf.vectors[i][j] * features[j];\n",
      "                    }\n",
      "                    kernels[i] = kernel;\n",
      "                }\n",
      "                break;\n",
      "            case POLY:\n",
      "                // (y<x,x'>+r)^d\n",
      "                for (int i = 0; i < this.clf.vectors.length; i++) {\n",
      "                    kernel = 0.;\n",
      "                    for (int j = 0; j < this.clf.vectors[i].length; j++) {\n",
      "                        kernel += this.clf.vectors[i][j] * features[j];\n",
      "                    }\n",
      "                    kernels[i] = Math.pow((this.clf.gamma * kernel) + this.clf.coef0, this.clf.degree);\n",
      "                }\n",
      "                break;\n",
      "            case RBF:\n",
      "                // exp(-y|x-x'|^2)\n",
      "                for (int i = 0; i < this.clf.vectors.length; i++) {\n",
      "                    kernel = 0.;\n",
      "                    for (int j = 0; j < this.clf.vectors[i].length; j++) {\n",
      "                        kernel += Math.pow(this.clf.vectors[i][j] - features[j], 2);\n",
      "                    }\n",
      "                    kernels[i] = Math.exp(-this.clf.gamma * kernel);\n",
      "                }\n",
      "                break;\n",
      "            case SIGMOID:\n",
      "                // tanh(y<x,x'>+r)\n",
      "                for (int i = 0; i < this.clf.vectors.length; i++) {\n",
      "                    kernel = 0.;\n",
      "                    for (int j = 0; j < this.clf.vectors[i].length; j++) {\n",
      "                        kernel += this.clf.vectors[i][j] * features[j];\n",
      "                    }\n",
      "                    kernels[i] = Math.tanh((this.clf.gamma * kernel) + this.clf.coef0);\n",
      "                }\n",
      "                break;\n",
      "        }\n",
      "\n",
      "        int[] starts = new int[this.clf.nRows];\n",
      "        for (int i = 0; i < this.clf.nRows; i++) {\n",
      "            if (i != 0) {\n",
      "                int start = 0;\n",
      "                for (int j = 0; j < i; j++) {\n",
      "                    start += this.clf.weights[j];\n",
      "                }\n",
      "                starts[i] = start;\n",
      "            } else {\n",
      "                starts[0] = 0;\n",
      "            }\n",
      "        }\n",
      "\n",
      "        int[] ends = new int[this.clf.nRows];\n",
      "        for (int i = 0; i < this.clf.nRows; i++) {\n",
      "            ends[i] = this.clf.weights[i] + starts[i];\n",
      "        }\n",
      "\n",
      "        if (this.clf.nClasses == 2) {\n",
      "            for (int i = 0; i < kernels.length; i++) {\n",
      "                kernels[i] = -kernels[i];\n",
      "            }\n",
      "            double decision = 0.;\n",
      "            for (int k = starts[1]; k < ends[1]; k++) {\n",
      "                decision += kernels[k] * this.clf.coefficients[0][k];\n",
      "            }\n",
      "            for (int k = starts[0]; k < ends[0]; k++) {\n",
      "                decision += kernels[k] * this.clf.coefficients[0][k];\n",
      "            }\n",
      "            decision += this.clf.intercepts[0];\n",
      "            if (decision > 0) {\n",
      "                return 0;\n",
      "            }\n",
      "            return 1;\n",
      "        }\n",
      "\n",
      "        double[] decisions = new double[this.clf.intercepts.length];\n",
      "        for (int i = 0, d = 0, l = this.clf.nRows; i < l; i++) {\n",
      "            for (int j = i + 1; j < l; j++) {\n",
      "                double tmp = 0.;\n",
      "                for (int k = starts[j]; k < ends[j]; k++) {\n",
      "                    tmp += this.clf.coefficients[i][k] * kernels[k];\n",
      "                }\n",
      "                for (int k = starts[i]; k < ends[i]; k++) {\n",
      "                    tmp += this.clf.coefficients[j - 1][k] * kernels[k];\n",
      "                }\n",
      "                decisions[d] = tmp + this.clf.intercepts[d];\n",
      "                d++;\n",
      "            }\n",
      "        }\n",
      "\n",
      "        int[] votes = new int[this.clf.intercepts.length];\n",
      "        for (int i = 0, d = 0, l = this.clf.nRows; i < l; i++) {\n",
      "            for (int j = i + 1; j < l; j++) {\n",
      "                votes[d] = decisions[d] > 0 ? i : j;\n",
      "                d++;\n",
      "            }\n",
      "        }\n",
      "\n",
      "        int[] amounts = new int[this.clf.nClasses];\n",
      "        for (int i = 0, l = votes.length; i < l; i++) {\n",
      "            amounts[votes[i]] += 1;\n",
      "        }\n",
      "\n",
      "        int classVal = -1, classIdx = -1;\n",
      "        for (int i = 0, l = amounts.length; i < l; i++) {\n",
      "            if (amounts[i] > classVal) {\n",
      "                classVal = amounts[i];\n",
      "                classIdx = i;\n",
      "            }\n",
      "        }\n",
      "        return this.clf.classes[classIdx];\n",
      "    }\n",
      "\n",
      "    public static void main(String[] args) throws FileNotFoundException {\n",
      "        if (args.length > 0 && args[0].endsWith(\".json\")) {\n",
      "\n",
      "            // Features:\n",
      "            double[] features = new double[args.length-1];\n",
      "            for (int i = 1, l = args.length; i < l; i++) {\n",
      "                features[i - 1] = Double.parseDouble(args[i]);\n",
      "            }\n",
      "\n",
      "            // Parameters:\n",
      "            String modelData = args[0];\n",
      "\n",
      "            // Estimators:\n",
      "            NuSVC clf = new NuSVC(modelData);\n",
      "\n",
      "            // Prediction:\n",
      "            int prediction = clf.predict(features);\n",
      "            System.out.println(prediction);\n",
      "\n",
      "        }\n",
      "    }\n",
      "}\n"
     ]
    }
   ],
   "source": [
    "from sklearn_porter import Porter\n",
    "\n",
    "porter = Porter(clf, language='java')\n",
    "output = porter.export(export_data=True)\n",
    "\n",
    "print(output)"
   ]
  },
  {
   "cell_type": "markdown",
   "metadata": {},
   "source": [
    "### Run classification in Java"
   ]
  },
  {
   "cell_type": "code",
   "execution_count": 5,
   "metadata": {},
   "outputs": [],
   "source": [
    "# Save classifier:\n",
    "# with open('NuSVC.java', 'w') as f:\n",
    "#     f.write(output)\n",
    "\n",
    "# Check model data:\n",
    "# $ cat data.json\n",
    "\n",
    "# Download dependencies:\n",
    "# $ wget -O gson.jar http://central.maven.org/maven2/com/google/code/gson/gson/2.8.5/gson-2.8.5.jar\n",
    "\n",
    "# Compile model:\n",
    "# $ javac -cp .:gson.jar NuSVC.java\n",
    "\n",
    "# Run classification:\n",
    "# $ java -cp .:gson.jar NuSVC data.json 1 2 3 4"
   ]
  }
 ],
 "metadata": {
  "jupytext": {
   "main_language": "python",
   "text_representation": {
    "extension": ".py",
    "format_name": "percent"
   }
  },
  "language_info": {
   "codemirror_mode": {
    "name": "ipython",
    "version": 2
   },
   "file_extension": ".py",
   "mimetype": "text/x-python",
   "name": "python",
   "nbconvert_exporter": "python",
   "pygments_lexer": "ipython2",
   "version": "2.7.15"
  }
 },
 "nbformat": 4,
 "nbformat_minor": 2
}
