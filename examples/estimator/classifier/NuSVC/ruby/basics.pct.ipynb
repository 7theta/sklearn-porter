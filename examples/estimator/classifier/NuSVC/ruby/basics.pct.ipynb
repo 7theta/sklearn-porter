{
 "cells": [
  {
   "cell_type": "markdown",
   "metadata": {},
   "source": [
    "# sklearn-porter\n",
    "\n",
    "Repository: [https://github.com/nok/sklearn-porter](https://github.com/nok/sklearn-porter)\n",
    "\n",
    "## NuSVC\n",
    "\n",
    "Documentation: [sklearn.svm.NuSVC](http://scikit-learn.org/stable/modules/generated/sklearn.svm.NuSVC.html)"
   ]
  },
  {
   "cell_type": "code",
   "execution_count": 1,
   "metadata": {},
   "outputs": [],
   "source": [
    "import sys\n",
    "sys.path.append('../../../../..')"
   ]
  },
  {
   "cell_type": "markdown",
   "metadata": {},
   "source": [
    "### Load data"
   ]
  },
  {
   "cell_type": "code",
   "execution_count": 2,
   "metadata": {},
   "outputs": [
    {
     "name": "stdout",
     "output_type": "stream",
     "text": [
      "((150, 4), (150,))\n"
     ]
    }
   ],
   "source": [
    "from sklearn.datasets import load_iris\n",
    "\n",
    "iris_data = load_iris()\n",
    "\n",
    "X = iris_data.data\n",
    "y = iris_data.target\n",
    "\n",
    "print(X.shape, y.shape)"
   ]
  },
  {
   "cell_type": "markdown",
   "metadata": {},
   "source": [
    "### Train classifier"
   ]
  },
  {
   "cell_type": "code",
   "execution_count": 3,
   "metadata": {},
   "outputs": [
    {
     "data": {
      "text/plain": [
       "NuSVC(cache_size=200, class_weight=None, coef0=0.0,\n",
       "   decision_function_shape='ovr', degree=3, gamma=0.001, kernel='rbf',\n",
       "   max_iter=-1, nu=0.5, probability=False, random_state=0, shrinking=True,\n",
       "   tol=0.001, verbose=False)"
      ]
     },
     "execution_count": 3,
     "metadata": {},
     "output_type": "execute_result"
    }
   ],
   "source": [
    "from sklearn import svm\n",
    "\n",
    "clf = svm.NuSVC(gamma=0.001, kernel='rbf', random_state=0)\n",
    "clf.fit(X, y)"
   ]
  },
  {
   "cell_type": "markdown",
   "metadata": {},
   "source": [
    "### Transpile classifier"
   ]
  },
  {
   "cell_type": "code",
   "execution_count": 4,
   "metadata": {},
   "outputs": [
    {
     "name": "stdout",
     "output_type": "stream",
     "text": [
      "class NuSVC\n",
      "\n",
      "\tdef initialize (nClasses, nRows, vectors, coefficients, intercepts, weights, kernel, gamma, coef0, degree)\n",
      "\t\t@nClasses = nClasses\n",
      "\t\t@classes = Array.new(nClasses)\n",
      "\t\tfor i in 0 ... nClasses\n",
      "\t\t\t@classes[i] = i\n",
      "\t\tend\n",
      "\t\t@nRows = nRows\n",
      "\n",
      "\t\t@vectors = vectors\n",
      "\t\t@coefficients = coefficients\n",
      "\t\t@intercepts = intercepts\n",
      "\t\t@weights = weights\n",
      "\n",
      "\t\t@kernel = kernel.upcase\n",
      "\t\t@gamma = gamma\n",
      "\t\t@coef0 = coef0\n",
      "\t\t@degree = degree\n",
      "\tend\n",
      "\n",
      "\tdef predict (features)\n",
      "    \n",
      "    \tkernels = Array.new(@vectors.length)\n",
      "    \tcase @kernel\n",
      "    \twhen \"LINEAR\"\n",
      "    \t\tfor i in 0 ... @vectors.length\n",
      "    \t\t\tkernel = 0\n",
      "    \t\t\tfor j in 0 ... @vectors[i].length\n",
      "    \t\t\t\tkernel += @vectors[i][j] * features[j]\n",
      "    \t\t\tend\n",
      "    \t\t\tkernels[i] = kernel\n",
      "    \t\tend\n",
      "    \twhen 'POLY'\n",
      "    \t\tfor i in 0 ... @vectors.length\n",
      "    \t\t\tkernel = 0\n",
      "    \t\t\tfor j in 0 ... @vectors[i].length\n",
      "    \t\t\t\tkernel += @vectors[i][j] * features[j]\n",
      "    \t\t\tend\n",
      "    \t\t\tkernels[i] = (((@gamma * kernel) + @coef0) ** @degree)\n",
      "    \t\tend\n",
      "    \twhen \"RBF\"\n",
      "    \t\tfor i in 0 ... @vectors.length\n",
      "    \t\t\tkernel = 0\n",
      "    \t\t\tfor j in 0 ... @vectors[i].length\n",
      "    \t\t\t\tkernel += ((@vectors[i][j] - features[j]) ** 2)\n",
      "    \t\t\tend\n",
      "    \t\t\tkernels[i] = Math.exp(-@gamma * kernel)\n",
      "    \t\tend\n",
      "    \twhen 'SIGMOID'\n",
      "    \t\tfor i in 0 ... @vectors.length\n",
      "    \t\t\tkernel = 0\n",
      "    \t\t\tfor j in 0 ... @vectors[i].length\n",
      "    \t\t\t\tkernel += @vectors[i][j] * features[j]\n",
      "    \t\t\tend\n",
      "    \t\t\tkernels[i] = Math.tanh((@gamma * kernel) + @coef0)\n",
      "    \t\tend\n",
      "    \tend\n",
      "    \n",
      "    \tstarts = Array.new(@nRows, 0)\n",
      "    \tfor i in 0 ... @nRows\n",
      "    \t\tif i != 0\n",
      "    \t\t\tstart = 0\n",
      "    \t\t\tfor j in 0 ... i\n",
      "    \t\t\t\tstart += @weights[j]\n",
      "    \t\t\tend\n",
      "    \t\t\tstarts[i] = start\n",
      "    \t\telse\n",
      "    \t\t\tstarts[0] = 0\n",
      "    \t\tend\n",
      "    \tend\n",
      "    \n",
      "    \tends = Array.new(@nRows, 0)\n",
      "    \tfor i in 0 ... @nRows\n",
      "    \t\tends[i] = @weights[i] + starts[i]\n",
      "    \tend\n",
      "    \n",
      "    \tif @nClasses == 2\n",
      "    \n",
      "    \t\tfor i in 0 ... kernels.length\n",
      "    \t\t\tkernels[i] = -kernels[i]\n",
      "    \t\tend\n",
      "    \n",
      "    \t\tdecision = 0\n",
      "    \t\tfor k in starts[1] ... ends[1]\n",
      "    \t\t\tdecision += kernels[k] * @coefficients[0][k]\n",
      "    \t\tend\n",
      "    \t\tfor k in starts[0] ... ends[0]\n",
      "    \t\t\tdecision += kernels[k] * @coefficients[0][k]\n",
      "    \t\tend\n",
      "    \t\tdecision += @intercepts[0];\n",
      "    \n",
      "    \t\tif decision > 0\n",
      "    \t\t\treturn 0\n",
      "    \t\tend\n",
      "    \t\treturn 1\n",
      "    \n",
      "    \tend\n",
      "    \n",
      "    \tdecisions = Array.new(@intercepts.length, 0)\n",
      "    \td = 0\n",
      "    \tfor i in 0 ... @nRows\n",
      "    \t\tfor j in i + 1 ... @nRows\n",
      "    \t\t\ttmp = 0\n",
      "    \t\t\tfor k in starts[j] ... ends[j]\n",
      "    \t\t\t\ttmp += @coefficients[i][k] * kernels[k]\n",
      "    \t\t\tend\n",
      "    \t\t\tfor k in starts[i] ... ends[i]\n",
      "    \t\t\t\ttmp += @coefficients[j - 1][k] * kernels[k]\n",
      "    \t\t\tend\n",
      "    \t\t\tdecisions[d] = tmp + @intercepts[d]\n",
      "    \t\t\td = d + 1\n",
      "    \t\tend\n",
      "    \tend\n",
      "    \n",
      "    \tvotes = Array.new(@intercepts.length, 0)\n",
      "    \td = 0\n",
      "    \tfor i in 0 ... @nRows\n",
      "    \t\tfor j in i + 1 ... @nRows\n",
      "    \t\t\tvotes[d] = decisions[d] > 0 ? i : j\n",
      "    \t\t\td = d + 1\n",
      "    \t\tend\n",
      "    \tend\n",
      "    \n",
      "    \tamounts = Array.new(@nClasses, 0)\n",
      "    \tfor i in 0 ... votes.length\n",
      "    \t\tamounts[votes[i]] += 1\n",
      "    \tend\n",
      "    \n",
      "    \tclassVal = -1\n",
      "    \tclassIdx = -1\n",
      "    \tfor i in 0 ... amounts.length\n",
      "    \t\tif amounts[i] > classVal\n",
      "    \t\t\tclassVal = amounts[i]\n",
      "    \t\t\tclassIdx = i\n",
      "    \t\tend\n",
      "    \tend\n",
      "    \treturn @classes[classIdx]\n",
      "    \n",
      "    end\n",
      "\n",
      "end\n",
      "\n",
      "if ARGV.length == 4\n",
      "\n",
      "\t# Features:\n",
      "\tfeatures = ARGV.collect { |i| i.to_f }\n",
      "\n",
      "\t# Parameters:\n",
      "\tvectors = [[4.9, 3.0, 1.4, 0.2], [4.6, 3.1, 1.5, 0.2], [5.4, 3.9, 1.7, 0.4], [5.0, 3.4, 1.5, 0.2], [4.9, 3.1, 1.5, 0.1], [5.4, 3.7, 1.5, 0.2], [4.8, 3.4, 1.6, 0.2], [5.7, 4.4, 1.5, 0.4], [5.7, 3.8, 1.7, 0.3], [5.1, 3.8, 1.5, 0.3], [5.4, 3.4, 1.7, 0.2], [5.1, 3.7, 1.5, 0.4], [5.1, 3.3, 1.7, 0.5], [4.8, 3.4, 1.9, 0.2], [5.0, 3.0, 1.6, 0.2], [5.0, 3.4, 1.6, 0.4], [5.2, 3.5, 1.5, 0.2], [4.7, 3.2, 1.6, 0.2], [4.8, 3.1, 1.6, 0.2], [5.4, 3.4, 1.5, 0.4], [4.9, 3.1, 1.5, 0.2], [5.1, 3.4, 1.5, 0.2], [4.5, 2.3, 1.3, 0.3], [5.0, 3.5, 1.6, 0.6], [5.1, 3.8, 1.9, 0.4], [4.8, 3.0, 1.4, 0.3], [5.1, 3.8, 1.6, 0.2], [5.3, 3.7, 1.5, 0.2], [7.0, 3.2, 4.7, 1.4], [6.4, 3.2, 4.5, 1.5], [6.9, 3.1, 4.9, 1.5], [5.5, 2.3, 4.0, 1.3], [6.5, 2.8, 4.6, 1.5], [5.7, 2.8, 4.5, 1.3], [6.3, 3.3, 4.7, 1.6], [4.9, 2.4, 3.3, 1.0], [6.6, 2.9, 4.6, 1.3], [5.2, 2.7, 3.9, 1.4], [5.0, 2.0, 3.5, 1.0], [5.9, 3.0, 4.2, 1.5], [6.0, 2.2, 4.0, 1.0], [6.1, 2.9, 4.7, 1.4], [5.6, 2.9, 3.6, 1.3], [6.7, 3.1, 4.4, 1.4], [5.6, 3.0, 4.5, 1.5], [5.8, 2.7, 4.1, 1.0], [6.2, 2.2, 4.5, 1.5], [5.6, 2.5, 3.9, 1.1], [5.9, 3.2, 4.8, 1.8], [6.1, 2.8, 4.0, 1.3], [6.3, 2.5, 4.9, 1.5], [6.1, 2.8, 4.7, 1.2], [6.6, 3.0, 4.4, 1.4], [6.8, 2.8, 4.8, 1.4], [6.7, 3.0, 5.0, 1.7], [6.0, 2.9, 4.5, 1.5], [5.7, 2.6, 3.5, 1.0], [5.5, 2.4, 3.8, 1.1], [5.5, 2.4, 3.7, 1.0], [5.8, 2.7, 3.9, 1.2], [6.0, 2.7, 5.1, 1.6], [5.4, 3.0, 4.5, 1.5], [6.0, 3.4, 4.5, 1.6], [6.7, 3.1, 4.7, 1.5], [6.3, 2.3, 4.4, 1.3], [5.6, 3.0, 4.1, 1.3], [5.5, 2.5, 4.0, 1.3], [5.5, 2.6, 4.4, 1.2], [6.1, 3.0, 4.6, 1.4], [5.8, 2.6, 4.0, 1.2], [5.0, 2.3, 3.3, 1.0], [5.6, 2.7, 4.2, 1.3], [5.7, 3.0, 4.2, 1.2], [5.7, 2.9, 4.2, 1.3], [6.2, 2.9, 4.3, 1.3], [5.1, 2.5, 3.0, 1.1], [5.7, 2.8, 4.1, 1.3], [5.8, 2.7, 5.1, 1.9], [6.3, 2.9, 5.6, 1.8], [4.9, 2.5, 4.5, 1.7], [6.5, 3.2, 5.1, 2.0], [6.4, 2.7, 5.3, 1.9], [5.7, 2.5, 5.0, 2.0], [5.8, 2.8, 5.1, 2.4], [6.4, 3.2, 5.3, 2.3], [6.5, 3.0, 5.5, 1.8], [6.0, 2.2, 5.0, 1.5], [5.6, 2.8, 4.9, 2.0], [6.3, 2.7, 4.9, 1.8], [6.2, 2.8, 4.8, 1.8], [6.1, 3.0, 4.9, 1.8], [7.2, 3.0, 5.8, 1.6], [6.3, 2.8, 5.1, 1.5], [6.1, 2.6, 5.6, 1.4], [6.4, 3.1, 5.5, 1.8], [6.0, 3.0, 4.8, 1.8], [6.9, 3.1, 5.4, 2.1], [6.9, 3.1, 5.1, 2.3], [5.8, 2.7, 5.1, 1.9], [6.7, 3.0, 5.2, 2.3], [6.3, 2.5, 5.0, 1.9], [6.5, 3.0, 5.2, 2.0], [6.2, 3.4, 5.4, 2.3], [5.9, 3.0, 5.1, 1.8]]\n",
      "\tcoefficients = [[4.680538527007988, 4.680538527007988, 4.680538527007988, 4.680538527007988, 4.680538527007988, 4.680538527007988, 4.680538527007988, 0.0, 4.680538527007988, 0.0, 4.680538527007988, 4.680538527007988, 4.680538527007988, 4.680538527007988, 4.680538527007988, 4.680538527007988, 4.680538527007988, 4.680538527007988, 4.680538527007988, 4.680538527007988, 4.680538527007988, 4.680538527007988, 4.680538527007988, 4.680538527007988, 4.680538527007988, 4.680538527007988, 4.680538527007988, 0.0, -0.0, -0.0, -0.0, -4.680538527007988, -0.0, -0.0, -0.0, -4.680538527007988, -0.0, -4.680538527007988, -4.680538527007988, -4.680538527007988, -4.680538527007988, -0.0, -4.680538527007988, -0.0, -0.0, -4.680538527007988, -0.0, -4.680538527007988, -0.0, -4.680538527007988, -0.0, -0.0, -0.0, -0.0, -0.0, -0.0, -4.680538527007988, -4.680538527007988, -4.680538527007988, -4.680538527007988, -0.0, -0.0, -0.0, -0.0, -0.0, -4.680538527007988, -4.680538527007988, -4.680538527007988, -0.0, -4.680538527007988, -4.680538527007988, -4.680538527007988, -4.680538527007988, -4.680538527007988, -4.680538527007988, -4.680538527007988, -4.680538527007988, -2.1228182659346366, -2.1228182659346366, -2.1228182659346366, -2.1228182659346366, -2.1228182659346366, -2.1228182659346366, -2.1228182659346366, -2.1228182659346366, -2.1228182659346366, -2.1228182659346366, -2.1228182659346366, -2.1228182659346366, -2.1228182659346366, -2.1228182659346366, -0.0, -2.1228182659346366, -2.1228182659346366, -2.1228182659346366, -2.1228182659346366, -0.0, -2.1228182659346366, -2.1228182659346366, -2.1228182659346366, -2.1228182659346366, -2.1228182659346366, -2.1228182659346366, -2.1228182659346366], [0.0, 0.0, 2.1228182659346366, 2.1228182659346366, 2.1228182659346366, 2.1228182659346366, 2.1228182659346366, 2.1228182659346366, 2.1228182659346366, 2.1228182659346366, 2.1228182659346366, 2.1228182659346366, 2.1228182659346366, 2.1228182659346366, 2.1228182659346366, 2.1228182659346366, 2.1228182659346366, 2.1228182659346366, 2.1228182659346366, 2.1228182659346366, 2.1228182659346366, 2.1228182659346366, 0.0, 2.1228182659346366, 2.1228182659346366, 2.1228182659346366, 2.1228182659346366, 2.1228182659346366, 47.52934177369389, 47.52934177369389, 47.52934177369389, 0.0, 47.52934177369389, 47.52934177369389, 47.52934177369389, 0.0, 47.52934177369389, 0.0, 0.0, 0.0, 0.0, 47.52934177369389, 0.0, 47.52934177369389, 47.52934177369389, 0.0, 47.52934177369389, 0.0, 47.52934177369389, 0.0, 47.52934177369389, 47.52934177369389, 47.52934177369389, 47.52934177369389, 47.52934177369389, 47.52934177369389, 0.0, 0.0, 0.0, 0.0, 47.52934177369389, 47.52934177369389, 47.52934177369389, 47.52934177369389, 47.52934177369389, 0.0, 0.0, 47.52934177369389, 47.52934177369389, 0.0, 0.0, 0.0, 0.0, 0.0, 0.0, 0.0, 0.0, -47.52934177369389, -47.52934177369389, -47.52934177369389, -47.52934177369389, -47.52934177369389, -47.52934177369389, -47.52934177369389, -0.0, -47.52934177369389, -47.52934177369389, -47.52934177369389, -47.52934177369389, -47.52934177369389, -47.52934177369389, -47.52934177369389, -47.52934177369389, -47.52934177369389, -47.52934177369389, -47.52934177369389, -47.52934177369389, -47.52934177369389, -47.52934177369389, -47.52934177369389, -47.52934177369389, -47.52934177369389, -0.0, -47.52934177369389]]\n",
      "\tintercepts = [0.09572808365772528, 0.049757317370245795, -0.08418168966801846]\n",
      "\tweights = [28, 49, 27]\n",
      "\n",
      "\t# Prediction:\n",
      "\tclf = NuSVC.new 3, 3, vectors, coefficients, intercepts, weights, \"rbf\", 0.001, 0.0, 3\n",
      "\testimation = clf.predict features\n",
      "\tputs estimation\n",
      "\n",
      "end\n"
     ]
    }
   ],
   "source": [
    "from sklearn_porter import Porter\n",
    "\n",
    "porter = Porter(clf, language='ruby')\n",
    "output = porter.export()\n",
    "\n",
    "print(output)"
   ]
  }
 ],
 "metadata": {
  "jupytext": {
   "main_language": "python",
   "text_representation": {
    "extension": ".py",
    "format_name": "percent"
   }
  },
  "language_info": {
   "codemirror_mode": {
    "name": "ipython",
    "version": 2
   },
   "file_extension": ".py",
   "mimetype": "text/x-python",
   "name": "python",
   "nbconvert_exporter": "python",
   "pygments_lexer": "ipython2",
   "version": "2.7.15"
  }
 },
 "nbformat": 4,
 "nbformat_minor": 2
}
