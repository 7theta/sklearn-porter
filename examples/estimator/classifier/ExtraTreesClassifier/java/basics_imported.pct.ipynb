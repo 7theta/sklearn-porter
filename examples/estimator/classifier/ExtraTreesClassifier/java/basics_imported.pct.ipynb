{
 "cells": [
  {
   "cell_type": "markdown",
   "metadata": {},
   "source": [
    "# sklearn-porter\n",
    "\n",
    "Repository: [https://github.com/nok/sklearn-porter](https://github.com/nok/sklearn-porter)\n",
    "\n",
    "## ExtraTreesClassifier\n",
    "\n",
    "Documentation: [sklearn.ensemble.ExtraTreesClassifier](http://scikit-learn.org/stable/modules/generated/sklearn.ensemble.ExtraTreesClassifier.html)"
   ]
  },
  {
   "cell_type": "code",
   "execution_count": 1,
   "metadata": {},
   "outputs": [],
   "source": [
    "import sys\n",
    "sys.path.append('../../../../..')"
   ]
  },
  {
   "cell_type": "markdown",
   "metadata": {},
   "source": [
    "### Load data"
   ]
  },
  {
   "cell_type": "code",
   "execution_count": 2,
   "metadata": {},
   "outputs": [
    {
     "name": "stdout",
     "output_type": "stream",
     "text": [
      "((150, 4), (150,))\n"
     ]
    }
   ],
   "source": [
    "from sklearn.datasets import load_iris\n",
    "\n",
    "iris_data = load_iris()\n",
    "\n",
    "X = iris_data.data\n",
    "y = iris_data.target\n",
    "\n",
    "print(X.shape, y.shape)"
   ]
  },
  {
   "cell_type": "markdown",
   "metadata": {},
   "source": [
    "### Train classifier"
   ]
  },
  {
   "cell_type": "code",
   "execution_count": 3,
   "metadata": {},
   "outputs": [
    {
     "data": {
      "text/plain": [
       "ExtraTreesClassifier(bootstrap=False, class_weight=None, criterion='gini',\n",
       "           max_depth=None, max_features='auto', max_leaf_nodes=None,\n",
       "           min_impurity_decrease=0.0, min_impurity_split=None,\n",
       "           min_samples_leaf=1, min_samples_split=2,\n",
       "           min_weight_fraction_leaf=0.0, n_estimators=15, n_jobs=None,\n",
       "           oob_score=False, random_state=0, verbose=0, warm_start=False)"
      ]
     },
     "execution_count": 3,
     "metadata": {},
     "output_type": "execute_result"
    }
   ],
   "source": [
    "from sklearn.ensemble import ExtraTreesClassifier\n",
    "\n",
    "clf = ExtraTreesClassifier(n_estimators=15, random_state=0)\n",
    "clf.fit(X, y)"
   ]
  },
  {
   "cell_type": "markdown",
   "metadata": {},
   "source": [
    "### Transpile classifier"
   ]
  },
  {
   "cell_type": "code",
   "execution_count": 4,
   "metadata": {},
   "outputs": [
    {
     "name": "stdout",
     "output_type": "stream",
     "text": [
      "import java.io.File;\n",
      "import java.io.FileNotFoundException;\n",
      "import java.io.IOException;\n",
      "import java.lang.reflect.Type;\n",
      "import java.util.List;\n",
      "import java.util.Scanner;\n",
      "import com.google.gson.Gson;\n",
      "import com.google.gson.reflect.TypeToken;\n",
      "\n",
      "\n",
      "class ExtraTreesClassifier {\n",
      "\n",
      "    private class Tree {\n",
      "        private int[] childrenLeft;\n",
      "        private int[] childrenRight;\n",
      "        private double[] thresholds;\n",
      "        private int[] indices;\n",
      "        private double[][] classes;\n",
      "\n",
      "        private int predict (double[] features, int node) {\n",
      "            if (this.thresholds[node] != -2) {\n",
      "                if (features[this.indices[node]] <= this.thresholds[node]) {\n",
      "                    return this.predict(features, this.childrenLeft[node]);\n",
      "                } else {\n",
      "                    return this.predict(features, this.childrenRight[node]);\n",
      "                }\n",
      "            }\n",
      "            return ExtraTreesClassifier.findMax(this.classes[node]);\n",
      "        }\n",
      "        private int predict (double[] features) {\n",
      "            return this.predict(features, 0);\n",
      "        }\n",
      "    }\n",
      "\n",
      "    private List<Tree> forest;\n",
      "    private int nClasses;\n",
      "    private int nEstimators;\n",
      "\n",
      "    public ExtraTreesClassifier (String file) throws FileNotFoundException {\n",
      "        String jsonStr = new Scanner(new File(file)).useDelimiter(\"\\\\Z\").next();\n",
      "        Gson gson = new Gson();\n",
      "        Type listType = new TypeToken<List<Tree>>(){}.getType();\n",
      "        this.forest = gson.fromJson(jsonStr, listType);\n",
      "        this.nEstimators = this.forest.size();\n",
      "        this.nClasses = this.forest.get(0).classes[0].length;\n",
      "    }\n",
      "\n",
      "    private static int findMax(double[] nums) {\n",
      "        int index = 0;\n",
      "        for (int i = 0; i < nums.length; i++) {\n",
      "            index = nums[i] > nums[index] ? i : index;\n",
      "        }\n",
      "        return index;\n",
      "    }\n",
      "\n",
      "    public int predict(double[] features) {\n",
      "        double[] classes = new double[this.nClasses];\n",
      "        for (int i = 0; i < this.nEstimators; i++) {\n",
      "            classes[this.forest.get(i).predict(features, 0)]++;\n",
      "        }\n",
      "        return ExtraTreesClassifier.findMax(classes);\n",
      "    }\n",
      "\n",
      "    public static void main(String[] args) throws IOException {\n",
      "        if (args.length > 0 && args[0].endsWith(\".json\")) {\n",
      "\n",
      "            // Features:\n",
      "            double[] features = new double[args.length-1];\n",
      "            for (int i = 1, l = args.length; i < l; i++) {\n",
      "                features[i-1] = Double.parseDouble(args[i]);\n",
      "            }\n",
      "\n",
      "            // Parameters:\n",
      "            String modelData = args[0];\n",
      "\n",
      "            // Estimator:\n",
      "            ExtraTreesClassifier clf = new ExtraTreesClassifier(modelData);\n",
      "\n",
      "            // Prediction:\n",
      "            int prediction = clf.predict(features);\n",
      "            System.out.println(prediction);\n",
      "\n",
      "        }\n",
      "    }\n",
      "}\n"
     ]
    }
   ],
   "source": [
    "from sklearn_porter import Porter\n",
    "\n",
    "porter = Porter(clf, language='java')\n",
    "output = porter.export(export_data=True)\n",
    "\n",
    "print(output)"
   ]
  },
  {
   "cell_type": "markdown",
   "metadata": {},
   "source": [
    "### Run classification in Java"
   ]
  },
  {
   "cell_type": "code",
   "execution_count": 5,
   "metadata": {},
   "outputs": [],
   "source": [
    "# Save classifier:\n",
    "# with open('ExtraTreesClassifier.java', 'w') as f:\n",
    "#     f.write(output)\n",
    "\n",
    "# Check model data:\n",
    "# $ cat data.json\n",
    "\n",
    "# Download dependencies:\n",
    "# $ wget -O gson.jar http://central.maven.org/maven2/com/google/code/gson/gson/2.8.5/gson-2.8.5.jar\n",
    "\n",
    "# Compile model:\n",
    "# $ javac -cp .:gson.jar ExtraTreesClassifier.java\n",
    "\n",
    "# Run classification:\n",
    "# $ java -cp .:gson.jar ExtraTreesClassifier data.json 1 2 3 4"
   ]
  }
 ],
 "metadata": {
  "jupytext": {
   "main_language": "python",
   "text_representation": {
    "extension": ".py",
    "format_name": "percent"
   }
  },
  "language_info": {
   "codemirror_mode": {
    "name": "ipython",
    "version": 2
   },
   "file_extension": ".py",
   "mimetype": "text/x-python",
   "name": "python",
   "nbconvert_exporter": "python",
   "pygments_lexer": "ipython2",
   "version": "2.7.15"
  }
 },
 "nbformat": 4,
 "nbformat_minor": 2
}
